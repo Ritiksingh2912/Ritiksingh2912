{
  "nbformat": 4,
  "nbformat_minor": 0,
  "metadata": {
    "colab": {
      "provenance": [],
      "authorship_tag": "ABX9TyNoOn5mEmX/wMpPjC1dVLiG",
      "include_colab_link": true
    },
    "kernelspec": {
      "name": "python3",
      "display_name": "Python 3"
    },
    "language_info": {
      "name": "python"
    }
  },
  "cells": [
    {
      "cell_type": "markdown",
      "metadata": {
        "id": "view-in-github",
        "colab_type": "text"
      },
      "source": [
        "<a href=\"https://colab.research.google.com/github/Ritiksingh2912/Ritiksingh2912/blob/main/numpy_assignment.ipynb\" target=\"_parent\"><img src=\"https://colab.research.google.com/assets/colab-badge.svg\" alt=\"Open In Colab\"/></a>"
      ]
    },
    {
      "cell_type": "code",
      "execution_count": null,
      "metadata": {
        "id": "B1GZKGqWkJ3W"
      },
      "outputs": [],
      "source": [
        "                      #  Assignment NumPy\n",
        "\n",
        "                     # Question and answer"
      ]
    },
    {
      "cell_type": "code",
      "source": [
        "import numpy as np\n",
        "# Q1. Create a NumPy array 'arr' of integers from 0 to 5 and print its data type.\n",
        "#Answer =\n",
        "l = [0,1,2,3,4,5]\n",
        "arr = np.array(l)\n",
        "arr"
      ],
      "metadata": {
        "colab": {
          "base_uri": "https://localhost:8080/"
        },
        "id": "zCThGwmsnISs",
        "outputId": "cbbe0def-a910-48b2-d7d7-d138242d7dcb"
      },
      "execution_count": null,
      "outputs": [
        {
          "output_type": "execute_result",
          "data": {
            "text/plain": [
              "array([0, 1, 2, 3, 4, 5])"
            ]
          },
          "metadata": {},
          "execution_count": 6
        }
      ]
    },
    {
      "cell_type": "code",
      "source": [
        "type(arr)"
      ],
      "metadata": {
        "colab": {
          "base_uri": "https://localhost:8080/"
        },
        "id": "bSzjuNQOn81y",
        "outputId": "1b51894a-70a2-4ba9-f374-96938a6cb733"
      },
      "execution_count": null,
      "outputs": [
        {
          "output_type": "execute_result",
          "data": {
            "text/plain": [
              "numpy.ndarray"
            ]
          },
          "metadata": {},
          "execution_count": 7
        }
      ]
    },
    {
      "cell_type": "code",
      "source": [
        "#Q2. Given a NumPy array 'arr', check if its data type is float64.\n",
        "arr = np.array([1.5, 2.6, 3.7])\n",
        "#answer=\n",
        "if arr.dtype == np.float64:\n",
        "    print(\"The data type of arr is float64.\")\n",
        "else:\n",
        "    print(\"The data type of arr is not float64.\")"
      ],
      "metadata": {
        "colab": {
          "base_uri": "https://localhost:8080/"
        },
        "id": "nLUf-WAooF5B",
        "outputId": "2d0b1a0f-51a3-46cd-b12c-e27d6c9f2b6d"
      },
      "execution_count": null,
      "outputs": [
        {
          "output_type": "stream",
          "name": "stdout",
          "text": [
            "The data type of arr is float64.\n"
          ]
        }
      ]
    },
    {
      "cell_type": "code",
      "source": [
        "#Q3. Create a NumPy array 'arr' with a data type of complex128 containing three complex numbers.\n",
        "#answer=\n",
        "arr = np.array([1+2j, 3-4j, 5+6j], dtype=np.complex128)\n",
        "print(\"Array 'arr':\", arr)"
      ],
      "metadata": {
        "colab": {
          "base_uri": "https://localhost:8080/"
        },
        "id": "ehEt0sYno-BW",
        "outputId": "9f409cec-a461-49c4-94d7-c1023725ec2c"
      },
      "execution_count": null,
      "outputs": [
        {
          "output_type": "stream",
          "name": "stdout",
          "text": [
            "Array 'arr': [1.+2.j 3.-4.j 5.+6.j]\n"
          ]
        }
      ]
    },
    {
      "cell_type": "code",
      "source": [
        "#Q4. Convert an existing NumPy array 'arr' of integers to float32 data type.\n",
        "# answer=\n",
        "arr = np.array([1, 2, 3, 4, 5])\n",
        "# Convert 'arr' to float32 data type\n",
        "arr_float32 = arr.astype(np.float32)\n",
        "print(\"Original array 'arr':\", arr)\n",
        "print(\"Converted array to float32 data type:\", arr_float32)"
      ],
      "metadata": {
        "colab": {
          "base_uri": "https://localhost:8080/"
        },
        "id": "R59M9P2vpVR-",
        "outputId": "7ba877fa-473c-4297-fbb9-eaa44f047285"
      },
      "execution_count": null,
      "outputs": [
        {
          "output_type": "stream",
          "name": "stdout",
          "text": [
            "Original array 'arr': [1 2 3 4 5]\n",
            "Converted array to float32 data type: [1. 2. 3. 4. 5.]\n"
          ]
        }
      ]
    },
    {
      "cell_type": "code",
      "source": [
        "#Q5. Given a NumPy array 'arr' with float64 data type, convert it to float32 to reduce decimal precision.\n",
        "#answer=\n",
        "# Example array 'arr' with float64 data type\n",
        "arr = np.array([1.5, 2.6, 3.7], dtype=np.float64)\n",
        "# Convert 'arr' to float32 data type\n",
        "arr_float32 = arr.astype(np.float32)\n",
        "print(\"Original array 'arr':\", arr)\n",
        "print(\"Converted array to float32 data type:\", arr_float32)"
      ],
      "metadata": {
        "colab": {
          "base_uri": "https://localhost:8080/"
        },
        "id": "EygCMnLHpoC2",
        "outputId": "12dd90f6-d882-4edc-9eda-235a411454fc"
      },
      "execution_count": null,
      "outputs": [
        {
          "output_type": "stream",
          "name": "stdout",
          "text": [
            "Original array 'arr': [1.5 2.6 3.7]\n",
            "Converted array to float32 data type: [1.5 2.6 3.7]\n"
          ]
        }
      ]
    },
    {
      "cell_type": "code",
      "source": [
        "#Q6. Write a function array_attributes that takes a NumPy array as input and returns its shape, size, and data type.\n",
        "#answer=\n",
        "arr = np.fromfunction(lambda i, j: i==j, (3,3))\n",
        "arr"
      ],
      "metadata": {
        "colab": {
          "base_uri": "https://localhost:8080/"
        },
        "id": "9bkMq3MWp4l0",
        "outputId": "03f2c7f5-f2a4-4701-e1df-415b88edb425"
      },
      "execution_count": null,
      "outputs": [
        {
          "output_type": "execute_result",
          "data": {
            "text/plain": [
              "array([[ True, False, False],\n",
              "       [False,  True, False],\n",
              "       [False, False,  True]])"
            ]
          },
          "metadata": {},
          "execution_count": 13
        }
      ]
    },
    {
      "cell_type": "code",
      "source": [
        "# data types\n",
        "type(arr)"
      ],
      "metadata": {
        "colab": {
          "base_uri": "https://localhost:8080/"
        },
        "id": "H4iKkdrXqn1r",
        "outputId": "94dd0997-aea5-4d51-8561-0af3f28d0151"
      },
      "execution_count": null,
      "outputs": [
        {
          "output_type": "execute_result",
          "data": {
            "text/plain": [
              "numpy.ndarray"
            ]
          },
          "metadata": {},
          "execution_count": 16
        }
      ]
    },
    {
      "cell_type": "code",
      "source": [
        "# shape\n",
        "arr.shape"
      ],
      "metadata": {
        "colab": {
          "base_uri": "https://localhost:8080/"
        },
        "id": "4BIHDXSAqmpk",
        "outputId": "8798d2bc-8a81-4535-b2e9-44457e614bea"
      },
      "execution_count": null,
      "outputs": [
        {
          "output_type": "execute_result",
          "data": {
            "text/plain": [
              "(3, 3)"
            ]
          },
          "metadata": {},
          "execution_count": 17
        }
      ]
    },
    {
      "cell_type": "code",
      "source": [
        "#size\n",
        "arr.size"
      ],
      "metadata": {
        "colab": {
          "base_uri": "https://localhost:8080/"
        },
        "id": "CtAw0DcJqmm7",
        "outputId": "22999b5a-48ef-4ef9-8279-53304ef16697"
      },
      "execution_count": null,
      "outputs": [
        {
          "output_type": "execute_result",
          "data": {
            "text/plain": [
              "9"
            ]
          },
          "metadata": {},
          "execution_count": 18
        }
      ]
    },
    {
      "cell_type": "code",
      "source": [
        "#Q7. Create a function array_dimension that takes a NumPy array as input and returns its dimensionality.\n",
        "#answer=\n",
        "arr = np.array([[1, 2, 3], [4, 5, 6]])\n",
        "arr"
      ],
      "metadata": {
        "colab": {
          "base_uri": "https://localhost:8080/"
        },
        "id": "sZt5ffTTqmgY",
        "outputId": "b4c59d60-d663-4514-abbf-5b4f47f609a2"
      },
      "execution_count": null,
      "outputs": [
        {
          "output_type": "execute_result",
          "data": {
            "text/plain": [
              "array([[1, 2, 3],\n",
              "       [4, 5, 6]])"
            ]
          },
          "metadata": {},
          "execution_count": 19
        }
      ]
    },
    {
      "cell_type": "code",
      "source": [
        "# DIMENSION\n",
        "arr.ndim"
      ],
      "metadata": {
        "colab": {
          "base_uri": "https://localhost:8080/"
        },
        "id": "KIBiSSdzs8tn",
        "outputId": "b9a7b507-0520-4e04-ed78-609584efe35a"
      },
      "execution_count": null,
      "outputs": [
        {
          "output_type": "execute_result",
          "data": {
            "text/plain": [
              "2"
            ]
          },
          "metadata": {},
          "execution_count": 20
        }
      ]
    },
    {
      "cell_type": "code",
      "source": [
        "#Q8. Design a function item_size_info that takes a NumPy array as input and returns the item size and the total size in bytes\n",
        "#answer-\n",
        "def item_size_info(arr):\n",
        "    item_size = arr.itemsize\n",
        "    total_size = arr.size * item_size\n",
        "    return item_size, total_size\n",
        "arr = np.array([[1, 2, 3], [4, 5, 6]])\n",
        "item_size, total_size = item_size_info(arr)\n",
        "print(\"Item size (bytes):\", item_size)\n",
        "print(\"Total size (bytes):\", total_size)"
      ],
      "metadata": {
        "colab": {
          "base_uri": "https://localhost:8080/"
        },
        "id": "2DT_14ASpVPF",
        "outputId": "37b89f15-afcd-46ab-c088-e675f9962aac"
      },
      "execution_count": null,
      "outputs": [
        {
          "output_type": "stream",
          "name": "stdout",
          "text": [
            "Item size (bytes): 8\n",
            "Total size (bytes): 48\n"
          ]
        }
      ]
    },
    {
      "cell_type": "code",
      "source": [
        "#Q9. Create a function array_strides that takes a NumPy array as input and returns the strides of the array.\n",
        "#answe-\n",
        "def array_strides(arr):\n",
        "    return arr.strides\n",
        "arr = np.array([[1, 2, 3], [4, 5, 6]])\n",
        "strides = array_strides(arr)\n",
        "print(\"Strides:\", strides)"
      ],
      "metadata": {
        "colab": {
          "base_uri": "https://localhost:8080/"
        },
        "id": "5Zc60rIXtiwn",
        "outputId": "f71c0bc3-ab98-4b91-a18e-76c2cfb8cd2a"
      },
      "execution_count": null,
      "outputs": [
        {
          "output_type": "stream",
          "name": "stdout",
          "text": [
            "Strides: (24, 8)\n"
          ]
        }
      ]
    },
    {
      "cell_type": "code",
      "source": [
        "#Q10. Design a function shape_stride_relationship that takes a NumPy array as input and returns the shape and strides of the array.\n",
        "#answer-\n",
        "def shape_stride_relationship(arr):\n",
        "    return arr.shape, arr.strides\n",
        "# Example usage:\n",
        "arr = np.array([[1, 2, 3], [4, 5, 6]])\n",
        "shape, strides = shape_stride_relationship(arr)\n",
        "print(\"Shape:\", shape)\n",
        "print(\"Strides:\", strides)"
      ],
      "metadata": {
        "colab": {
          "base_uri": "https://localhost:8080/"
        },
        "id": "e5firktrt5Sp",
        "outputId": "0caafaf8-23c6-4c0b-ada5-1d2cedcb4d25"
      },
      "execution_count": null,
      "outputs": [
        {
          "output_type": "stream",
          "name": "stdout",
          "text": [
            "Shape: (2, 3)\n",
            "Strides: (24, 8)\n"
          ]
        }
      ]
    },
    {
      "cell_type": "code",
      "source": [
        "#Q11. Create a function `create_zeros_array` that takes an integer `n` as input and returns a NumPy array of zeros with `n` elements\n",
        "#answer-\n",
        "def create_zeros_array(n):\n",
        "    return np.zeros(n)\n",
        "n = 5\n",
        "zeros_array = create_zeros_array(n)\n",
        "print(zeros_array)"
      ],
      "metadata": {
        "colab": {
          "base_uri": "https://localhost:8080/"
        },
        "id": "KSyZBZ4cuvGF",
        "outputId": "2888f138-70cc-4972-bd31-25f2d7af277e"
      },
      "execution_count": null,
      "outputs": [
        {
          "output_type": "stream",
          "name": "stdout",
          "text": [
            "[0. 0. 0. 0. 0.]\n"
          ]
        }
      ]
    },
    {
      "cell_type": "code",
      "source": [
        "arr1 = np.zeros((1,3,4))\n",
        "arr1"
      ],
      "metadata": {
        "colab": {
          "base_uri": "https://localhost:8080/"
        },
        "id": "tgTs2NadpVG2",
        "outputId": "395cacaf-6aee-4535-8f94-8184d692a1c8"
      },
      "execution_count": null,
      "outputs": [
        {
          "output_type": "execute_result",
          "data": {
            "text/plain": [
              "array([[[0., 0., 0., 0.],\n",
              "        [0., 0., 0., 0.],\n",
              "        [0., 0., 0., 0.]]])"
            ]
          },
          "metadata": {},
          "execution_count": 28
        }
      ]
    },
    {
      "cell_type": "code",
      "source": [
        "#Q12. Write a function `create_ones_matrix` that takes integers `rows` and `cols` as inputs and generates a 2D  NumPy array filled with ones of size `rows x cols`.\n",
        "#Answer -\n",
        "import numpy as np\n",
        "def create_ones_matrix(rows, cols):\n",
        "    return np.ones((rows, cols))\n",
        "rows = 3\n",
        "cols = 4\n",
        "ones_matrix = create_ones_matrix(rows, cols)\n",
        "print(ones_matrix)"
      ],
      "metadata": {
        "id": "37ITlo1ipVDg",
        "colab": {
          "base_uri": "https://localhost:8080/"
        },
        "outputId": "d5259176-9e2f-4a2d-e1ea-9918f194e254"
      },
      "execution_count": null,
      "outputs": [
        {
          "output_type": "stream",
          "name": "stdout",
          "text": [
            "[[1. 1. 1. 1.]\n",
            " [1. 1. 1. 1.]\n",
            " [1. 1. 1. 1.]]\n"
          ]
        }
      ]
    },
    {
      "cell_type": "code",
      "source": [
        "#Q13. Write a function `generate_range_array` that takes three integers start, stop, and step as arguments and creates a NumPy array with a range starting from `start`, ending at stop (exclusive), and with the specified `step`.\n",
        "#Ans-\n",
        "def generate_range_array(start, stop, step):\n",
        "    return np.arange(start, stop, step)\n",
        "start = 0\n",
        "stop = 10\n",
        "step = 2\n",
        "range_array = generate_range_array(start, stop, step)\n",
        "print(range_array)"
      ],
      "metadata": {
        "id": "jGEjx21uo94Q",
        "colab": {
          "base_uri": "https://localhost:8080/"
        },
        "outputId": "837221b4-ad99-4ca6-97b3-c8cb6c50ebbd"
      },
      "execution_count": null,
      "outputs": [
        {
          "output_type": "stream",
          "name": "stdout",
          "text": [
            "[0 2 4 6 8]\n"
          ]
        }
      ]
    },
    {
      "cell_type": "code",
      "source": [
        "#Q14. Design a function `generate_linear_space` that takes two floats `start`, `stop`, and an integer `num` as arguments and generates a NumPy array with num equally spaced values between `start` and `stop` (inclusive)\n",
        "#Ans-\n",
        "def generate_linear_space(start, stop, num):\n",
        "    return np.linspace(start, stop, num)\n",
        "start = 0.0\n",
        "stop = 1.0\n",
        "num = 5\n",
        "linear_space_array = generate_linear_space(start, stop, num)\n",
        "print(linear_space_array)"
      ],
      "metadata": {
        "colab": {
          "base_uri": "https://localhost:8080/"
        },
        "id": "80OuTlx3Ap0M",
        "outputId": "0182f6d9-e1ab-40f8-9d9f-2a3746e97b20"
      },
      "execution_count": null,
      "outputs": [
        {
          "output_type": "stream",
          "name": "stdout",
          "text": [
            "[0.   0.25 0.5  0.75 1.  ]\n"
          ]
        }
      ]
    },
    {
      "cell_type": "code",
      "source": [
        "#Q15. Create a function `create_identity_matrix` that takes an integer `n` as input and generates a square identity matrix of size `n x n` using `numpy.eye`\n",
        "#ans-\n",
        "def create_identity_matrix(n):\n",
        "    return np.eye(n)\n",
        "n = 4\n",
        "identity_matrix = create_identity_matrix(n)\n",
        "print(identity_matrix)"
      ],
      "metadata": {
        "colab": {
          "base_uri": "https://localhost:8080/"
        },
        "id": "Oh7NAESwApyA",
        "outputId": "b5331fd6-30c6-441d-b326-7a48c0f8e765"
      },
      "execution_count": null,
      "outputs": [
        {
          "output_type": "stream",
          "name": "stdout",
          "text": [
            "[[1. 0. 0. 0.]\n",
            " [0. 1. 0. 0.]\n",
            " [0. 0. 1. 0.]\n",
            " [0. 0. 0. 1.]]\n"
          ]
        }
      ]
    },
    {
      "cell_type": "code",
      "source": [
        "#Q16. Write a function that takes a Python list and converts it into a NumPy array.\n",
        "#Ans-\n",
        "import numpy as np\n",
        "def list_to_numpy_array(input_list):\n",
        "    return np.array(input_list)\n",
        "my_list = [1, 2, 3, 4, 5]\n",
        "numpy_array = list_to_numpy_array(my_list)\n",
        "print(numpy_array)"
      ],
      "metadata": {
        "id": "goW8KqK5Apv8",
        "colab": {
          "base_uri": "https://localhost:8080/"
        },
        "outputId": "90e56ec4-d608-4074-f4cb-38dca458afb2"
      },
      "execution_count": null,
      "outputs": [
        {
          "output_type": "stream",
          "name": "stdout",
          "text": [
            "[1 2 3 4 5]\n"
          ]
        }
      ]
    },
    {
      "cell_type": "code",
      "source": [
        "#Q17. Create a NumPy array and demonstrate the use of `numpy.view` to create a new array object with the same data.\n",
        "#ans-\n",
        "original_array = np.array([1, 2, 3, 4, 5])\n",
        "array_view = original_array.view()\n",
        "array_view[0] = 100\n",
        "# Print both arrays\n",
        "print(\"Original array:\", original_array)\n",
        "print(\"Array view:\", array_view)"
      ],
      "metadata": {
        "id": "j6--83w7AptT",
        "colab": {
          "base_uri": "https://localhost:8080/"
        },
        "outputId": "9445e774-7022-4ba5-e448-e7193697507b"
      },
      "execution_count": null,
      "outputs": [
        {
          "output_type": "stream",
          "name": "stdout",
          "text": [
            "Original array: [100   2   3   4   5]\n",
            "Array view: [100   2   3   4   5]\n"
          ]
        }
      ]
    },
    {
      "cell_type": "code",
      "source": [
        "#Q18. Write a function that takes two NumPy arrays and concatenates them along a specified axis\n",
        "#ans-\n",
        "def concatenate_arrays(arr1, arr2, axis=0):\n",
        "    \"\"\" Concatenates two NumPy arrays along a specified axis.\n",
        "    Parameters:\n",
        "    arr1 : numpy.ndarray\n",
        "        The first array to concatenate.\n",
        "    arr2 : numpy.ndarray\n",
        "        The second array to concatenate.\n",
        "    axis : int, optional\n",
        "        The axis along which to concatenate the arrays. Default is 0.\n",
        "    Returns:\n",
        "    numpy.ndarray\n",
        "        The concatenated array.\n",
        "    \"\"\"\n",
        "    return np.concatenate((arr1, arr2), axis=axis)\n",
        "array1 = np.array([[1, 2, 3],\n",
        "                   [4, 5, 6]])\n",
        "array2 = np.array([[7, 8, 9],\n",
        "                   [10, 11, 12]])\n",
        "\n",
        "concatenated_array = concatenate_arrays(array1, array2, axis=1)\n",
        "print(\"Concatenated array along axis 1:\")\n",
        "print(concatenated_array)"
      ],
      "metadata": {
        "id": "Asdrlf0Yo91H",
        "colab": {
          "base_uri": "https://localhost:8080/"
        },
        "outputId": "cc9a5807-14a4-4046-8bf5-15ab6c177c50"
      },
      "execution_count": null,
      "outputs": [
        {
          "output_type": "stream",
          "name": "stdout",
          "text": [
            "Concatenated array along axis 1:\n",
            "[[ 1  2  3  7  8  9]\n",
            " [ 4  5  6 10 11 12]]\n"
          ]
        }
      ]
    },
    {
      "cell_type": "code",
      "source": [
        "#Q19. Create two NumPy arrays with different shapes and concatenate them horizontally using `numpy.concatenate`.\n",
        "#ans-\n",
        "array1 = np.array([[1, 2, 3],\n",
        "                   [4, 5, 6]])\n",
        "array2 = np.array([[7, 8],\n",
        "                   [9, 10]])\n",
        "result = np.concatenate((array1, array2), axis=1)\n",
        "print(\"Array 1:\")\n",
        "print(array1)\n",
        "print(\"\\nArray 2:\")\n",
        "print(array2)\n",
        "print(\"\\nConcatenated array:\")\n",
        "print(result)"
      ],
      "metadata": {
        "colab": {
          "base_uri": "https://localhost:8080/"
        },
        "id": "Td3tG3KSaiK7",
        "outputId": "5318527f-c0d2-4477-8de4-9cd46fc6bb35"
      },
      "execution_count": null,
      "outputs": [
        {
          "output_type": "stream",
          "name": "stdout",
          "text": [
            "Array 1:\n",
            "[[1 2 3]\n",
            " [4 5 6]]\n",
            "\n",
            "Array 2:\n",
            "[[ 7  8]\n",
            " [ 9 10]]\n",
            "\n",
            "Concatenated array:\n",
            "[[ 1  2  3  7  8]\n",
            " [ 4  5  6  9 10]]\n"
          ]
        }
      ]
    },
    {
      "cell_type": "code",
      "source": [
        "#Q20. Write a function that vertically stacks multiple NumPy arrays given as a list.\n",
        "#ans-\n",
        "import numpy as np\n",
        "def stack_arrays_vertically(arrays):\n",
        "    \"\"\"\n",
        "    Stack multiple NumPy arrays vertically.\n",
        "\n",
        "    Parameters:\n",
        "        arrays (list of numpy.ndarray): List of NumPy arrays to be stacked.\n",
        "\n",
        "    Returns:\n",
        "        numpy.ndarray: Vertically stacked array.\n",
        "    \"\"\"\n",
        "    return np.vstack(arrays)\n",
        "array1 = np.array([[1, 2, 3],\n",
        "                   [4, 5, 6]])\n",
        "\n",
        "array2 = np.array([[7, 8, 9],\n",
        "                   [10, 11, 12]])\n",
        "\n",
        "stacked_array = stack_arrays_vertically([array1, array2])\n",
        "print(stacked_array)\n"
      ],
      "metadata": {
        "colab": {
          "base_uri": "https://localhost:8080/"
        },
        "id": "QrYLGIywa-3c",
        "outputId": "537abc09-b0b5-4024-f26e-ce5f9771566a"
      },
      "execution_count": null,
      "outputs": [
        {
          "output_type": "stream",
          "name": "stdout",
          "text": [
            "[[ 1  2  3]\n",
            " [ 4  5  6]\n",
            " [ 7  8  9]\n",
            " [10 11 12]]\n"
          ]
        }
      ]
    },
    {
      "cell_type": "code",
      "source": [
        "#Q21. Write a Python function using NumPy to create an array of integers within a specified range (inclusive) with a given step size.\n",
        "#ans-\n",
        "import numpy as np\n",
        "def create_integer_array(start, stop, step):\n",
        "   \"\"\"\n",
        "   Create an array of integers within a specified range (inclusive) with a given step size.\n",
        "    Parameters:\n",
        "        start (int): The starting value of the range.\n",
        "        stop (int): The ending value of the range.\n",
        "        step (int): The step size between values in the range.\n",
        "    Returns:\n",
        "        numpy.ndarray: The array of integers within the specified range.\n",
        "    \"\"\"\n",
        "    return np.arange(start, stop+1, step, dtype=int)\n",
        "start = 0\n",
        "stop = 10\n",
        "step = 2\n",
        "result = create_integer_array(start, stop, step)\n",
        "print(result)"
      ],
      "metadata": {
        "colab": {
          "base_uri": "https://localhost:8080/"
        },
        "id": "1iGku02X8lx3",
        "outputId": "83f36196-513f-4ba3-a210-a1f12cb87afb"
      },
      "execution_count": null,
      "outputs": [
        {
          "output_type": "stream",
          "name": "stdout",
          "text": [
            "[ 0  2  4  6  8 10]\n"
          ]
        }
      ]
    },
    {
      "cell_type": "code",
      "source": [
        "#Q22. Write a Python function using NumPy to generate an array of 10 equally spaced values between 0 and 1 (inclusive).\n",
        "#ans\n",
        "def generate_equally_spaced_array(start, stop, num_values):\n",
        "    \"\"\"   Generate an array of equally spaced values between two endpoints.\n",
        "    Parameters:\n",
        "        start (float): The starting value of the range.\n",
        "        stop (float): The ending value of the range.\n",
        "        num_values (int): The number of values to generate.\n",
        "    Returns:\n",
        "        numpy.ndarray: The array of equally spaced values between the specified endpoints.\n",
        "    \"\"\"   return np.linspace(start, stop, num_values)\n",
        "start = 0\n",
        "stop = 1\n",
        "num_values = 10\n",
        "result = generate_equally_spaced_array(start, stop, num_values)\n",
        "print(result)"
      ],
      "metadata": {
        "colab": {
          "base_uri": "https://localhost:8080/"
        },
        "id": "w7o5U5b78lvg",
        "outputId": "d0e314a5-0ab7-4496-f1ce-050d6d64265c"
      },
      "execution_count": null,
      "outputs": [
        {
          "output_type": "stream",
          "name": "stdout",
          "text": [
            "[0.         0.11111111 0.22222222 0.33333333 0.44444444 0.55555556\n",
            " 0.66666667 0.77777778 0.88888889 1.        ]\n"
          ]
        }
      ]
    },
    {
      "cell_type": "code",
      "source": [
        "#Q23. Write a Python function using NumPy to create an array of 5 logarithmically spaced values between 1 and 1000 (inclusive).\n",
        "#Ans-\n",
        "def generate_logarithmically_spaced_array(start, stop, num_values):\n",
        "    \"\"\"\n",
        "    Generate an array of logarithmically spaced values between two endpoints.\n",
        "    Parameters:\n",
        "        start (float): The starting value of the range.\n",
        "        stop (float): The ending value of the range.\n",
        "        num_values (int): The number of values to generate.\n",
        "    Returns:\n",
        "        numpy.ndarray: The array of logarithmically spaced values between the specified endpoints.\n",
        "    \"\"\"\n",
        "    return np.logspace(np.log10(start), np.log10(stop), num_values)\n",
        "start = 1\n",
        "stop = 1000\n",
        "num_values = 5\n",
        "result = generate_logarithmically_spaced_array(start, stop, num_values)\n",
        "print(result)"
      ],
      "metadata": {
        "colab": {
          "base_uri": "https://localhost:8080/"
        },
        "id": "UU7ItirZ8ltD",
        "outputId": "981b0585-36b2-4c6c-9085-7c0228d8b2c8"
      },
      "execution_count": null,
      "outputs": [
        {
          "output_type": "stream",
          "name": "stdout",
          "text": [
            "[   1.            5.62341325   31.6227766   177.827941   1000.        ]\n"
          ]
        }
      ]
    },
    {
      "cell_type": "code",
      "source": [
        "#Q24. Create a Pandas DataFrame using a NumPy array that contains 5 rows and 3 columns, where the values are random integers between 1 and 100.\n",
        "#Ans-\n",
        "import pandas as pd\n",
        "# Create a NumPy array with random integers\n",
        "random_array = np.random.randint(1, 101, size=(5, 3))\n",
        "# Create a Pandas DataFrame from the NumPy array\n",
        "df = pd.DataFrame(random_array, columns=['Column1', 'Column2', 'Column3'])\n",
        "print(df)"
      ],
      "metadata": {
        "colab": {
          "base_uri": "https://localhost:8080/"
        },
        "id": "8r7W9RZe8lqx",
        "outputId": "da718c1d-8210-4962-b642-21d5e673eb01"
      },
      "execution_count": null,
      "outputs": [
        {
          "output_type": "stream",
          "name": "stdout",
          "text": [
            "   Column1  Column2  Column3\n",
            "0       47       85       74\n",
            "1       68        6       45\n",
            "2       89       46        1\n",
            "3       83       80       59\n",
            "4       45       21       98\n"
          ]
        }
      ]
    },
    {
      "cell_type": "code",
      "source": [
        "#Q25. Write a function that takes a Pandas DataFrame and replaces all negative values in a specific column with zeros. Use NumPy operations within the Pandas DataFrame.\n",
        "#ans-\n",
        "def replace_negative_with_zero(df, column_name):\n",
        "    df[column_name] = np.where(df[column_name] < 0, 0, df[column_name])\n",
        "    return df\n",
        "data = {'A': [-1, 2, -3, 4],\n",
        "        'B': [5, -6, 7, -8]}\n",
        "df = pd.DataFrame(data)\n",
        "# Call the function to replace negative values in column 'A'\n",
        "df = replace_negative_with_zero(df, 'A')\n",
        "print(df)"
      ],
      "metadata": {
        "colab": {
          "base_uri": "https://localhost:8080/"
        },
        "id": "QQ7eE-tl8lob",
        "outputId": "3ade6e40-2372-4457-ec6f-bb82cbef4679"
      },
      "execution_count": null,
      "outputs": [
        {
          "output_type": "stream",
          "name": "stdout",
          "text": [
            "   A  B\n",
            "0  0  5\n",
            "1  2 -6\n",
            "2  0  7\n",
            "3  4 -8\n"
          ]
        }
      ]
    },
    {
      "cell_type": "code",
      "source": [
        "#Q26. Access the 3rd element from the given NumPy array.\n",
        "arr = np.array([10, 20, 30, 40, 50])\n",
        "#ans-\n",
        "arr[2]"
      ],
      "metadata": {
        "colab": {
          "base_uri": "https://localhost:8080/"
        },
        "id": "fE4yj-yV8lmZ",
        "outputId": "b3ba95c8-65cf-4019-f596-e0de37cb15c4"
      },
      "execution_count": null,
      "outputs": [
        {
          "output_type": "execute_result",
          "data": {
            "text/plain": [
              "30"
            ]
          },
          "metadata": {},
          "execution_count": 7
        }
      ]
    },
    {
      "cell_type": "code",
      "source": [
        "#Q27. Retrieve the element at index (1, 2) from the 2D NumPy array.\n",
        "arr_2d = np.array([[1, 2, 3],\n",
        "                   [4, 5, 6],\n",
        "                   [7, 8, 9]])\n",
        "#ans-\n",
        "arr_2d[1,2]"
      ],
      "metadata": {
        "colab": {
          "base_uri": "https://localhost:8080/"
        },
        "id": "v9G5T_kg8lkV",
        "outputId": "66da6683-be7a-482a-a161-784223e7e7f1"
      },
      "execution_count": null,
      "outputs": [
        {
          "output_type": "execute_result",
          "data": {
            "text/plain": [
              "6"
            ]
          },
          "metadata": {},
          "execution_count": 8
        }
      ]
    },
    {
      "cell_type": "code",
      "source": [
        "#Q28. . Using boolean indexing, extract elements greater than 5 from the given NumPy array\n",
        "arr = np.array([3, 8, 2, 10, 5, 7])\n",
        "#Ans-\n",
        "greater_than_5 = arr[arr > 5]\n",
        "print(greater_than_5)"
      ],
      "metadata": {
        "colab": {
          "base_uri": "https://localhost:8080/"
        },
        "id": "jSi64NG3_5WI",
        "outputId": "c03a97eb-2aac-4701-e9fc-8f580dac85e5"
      },
      "execution_count": null,
      "outputs": [
        {
          "output_type": "stream",
          "name": "stdout",
          "text": [
            "[ 8 10  7]\n"
          ]
        }
      ]
    },
    {
      "cell_type": "code",
      "source": [
        "#Q29. Perform basic slicing to extract elements from index 2 to 5 (inclusive) from the given NumPy array\n",
        "arr = np.array([1, 2, 3, 4, 5, 6, 7, 8, 9])\n",
        "#Ans-\n",
        "arr[1:5]"
      ],
      "metadata": {
        "colab": {
          "base_uri": "https://localhost:8080/"
        },
        "id": "dmWNwJrxBUjj",
        "outputId": "487d9653-a202-489b-c101-ead24eb9beeb"
      },
      "execution_count": null,
      "outputs": [
        {
          "output_type": "execute_result",
          "data": {
            "text/plain": [
              "array([2, 3, 4, 5])"
            ]
          },
          "metadata": {},
          "execution_count": 17
        }
      ]
    },
    {
      "cell_type": "code",
      "source": [
        "#Q30.Slice the 2D NumPy array to extract the sub-array `[[2, 3], [5, 6]]` from the given array.\n",
        "arr_2d = np.array([[1, 2, 3],\n",
        "                   [4, 5, 6],\n",
        "                   [7, 8, 9]])\n",
        "#Ans-\n",
        "arr_2d[0:2, 1:3]"
      ],
      "metadata": {
        "colab": {
          "base_uri": "https://localhost:8080/"
        },
        "id": "GKrH37OrB-Ow",
        "outputId": "94c3b150-5b18-493a-aa7f-cea3c95e8cde"
      },
      "execution_count": null,
      "outputs": [
        {
          "output_type": "execute_result",
          "data": {
            "text/plain": [
              "array([[2, 3],\n",
              "       [5, 6]])"
            ]
          },
          "metadata": {},
          "execution_count": 19
        }
      ]
    },
    {
      "cell_type": "code",
      "source": [
        "#Q31.Write a NumPy function to extract elements in specific order from a given 2D array based on indices provided in another array.\n",
        "#Ans-\n",
        "def extract_elements(arr, indices):\n",
        "    # Ensure indices are within bounds\n",
        "    indices = np.clip(indices, 0, arr.size - 1)\n",
        "    # Flatten the array and extract elements based on indices\n",
        "    return arr.flatten()[indices]\n",
        "arr = np.array([[1, 2, 3],\n",
        "                [4, 5, 6],\n",
        "                [7, 8, 9]])\n",
        "indices = np.array([0, 4, 8])  # Indices to extract elements from arr\n",
        "result = extract_elements(arr, indices)\n",
        "print(result)"
      ],
      "metadata": {
        "colab": {
          "base_uri": "https://localhost:8080/"
        },
        "id": "EtHj0FUQB-KI",
        "outputId": "79001533-0b86-43d4-ea8c-53a3050796c0"
      },
      "execution_count": null,
      "outputs": [
        {
          "output_type": "stream",
          "name": "stdout",
          "text": [
            "[1 5 9]\n"
          ]
        }
      ]
    },
    {
      "cell_type": "code",
      "source": [
        "#Q32. Create a NumPy function that filters elements greater than a threshold from a given 1D array using boolean indexing.\n",
        "#ans-\n",
        "arr = np.array([3, 8, 2, 9, 6, 10, 5, 7])\n",
        "#Ans-\n",
        "greater_than_5 = arr[arr > 5]\n",
        "print(greater_than_5)"
      ],
      "metadata": {
        "colab": {
          "base_uri": "https://localhost:8080/"
        },
        "id": "t7Ax_SVKBUfw",
        "outputId": "8a7e27a2-a937-43de-a7aa-65230ae3e758"
      },
      "execution_count": null,
      "outputs": [
        {
          "output_type": "stream",
          "name": "stdout",
          "text": [
            "[ 8  9  6 10  7]\n"
          ]
        }
      ]
    },
    {
      "cell_type": "code",
      "source": [
        "#Q33. Develop a NumPy function that extracts specific elements from a 3D array using indices provided in three separate arrays for each dimension.\n",
        "#Ans-\n",
        "def extract_elements_3d(arr, indices_dim1, indices_dim2, indices_dim3):\n",
        "    # Ensure indices are within bounds\n",
        "    indices_dim1 = np.clip(indices_dim1, 0, arr.shape[0] - 1)\n",
        "    indices_dim2 = np.clip(indices_dim2, 0, arr.shape[1] - 1)\n",
        "    indices_dim3 = np.clip(indices_dim3, 0, arr.shape[2] - 1)\n",
        "    # Use advanced indexing to extract elements\n",
        "    return arr[indices_dim1, indices_dim2, indices_dim3]\n",
        "arr_3d = np.array([[[1, 2, 3],\n",
        "                    [4, 5, 6],\n",
        "                    [7, 8, 9]],\n",
        "\n",
        "                   [[10, 11, 12],\n",
        "                    [13, 14, 15],\n",
        "                    [16, 17, 18]],\n",
        "\n",
        "                   [[19, 20, 21],\n",
        "                    [22, 23, 24],\n",
        "                    [25, 26, 27]]])\n",
        "\n",
        "indices_dim1 = np.array([0, 1, 2])  # Indices for the first dimension\n",
        "indices_dim2 = np.array([0, 1, 2])  # Indices for the second dimension\n",
        "indices_dim3 = np.array([0, 1, 2])  # Indices for the third dimension\n",
        "result = extract_elements_3d(arr_3d, indices_dim1, indices_dim2, indices_dim3)\n",
        "print(result)  # Output: [ 1 14 27]"
      ],
      "metadata": {
        "colab": {
          "base_uri": "https://localhost:8080/"
        },
        "id": "8W-dkEW-_5Tg",
        "outputId": "f07b4c5e-b776-47f6-ec4a-96b715f0a443"
      },
      "execution_count": null,
      "outputs": [
        {
          "output_type": "stream",
          "name": "stdout",
          "text": [
            "[ 1 14 27]\n"
          ]
        }
      ]
    },
    {
      "cell_type": "code",
      "source": [
        "#Q34.Write a NumPy function that returns elements from an array where both two conditions are satisfied using boolean indexing\n",
        "#ans-\n",
        "def elements_satisfying_conditions(arr, condition1, condition2):\n",
        "    # Boolean indexing to filter elements satisfying both conditions\n",
        "    filtered_arr = arr[(condition1) & (condition2)]\n",
        "    return filtered_arr\n",
        "arr = np.array([1, 2, 3, 4, 5, 6, 7, 8, 9])\n",
        "condition1 = arr > 3\n",
        "condition2 = arr % 2 == 0\n",
        "result = elements_satisfying_conditions(arr, condition1, condition2)\n",
        "print(result)"
      ],
      "metadata": {
        "colab": {
          "base_uri": "https://localhost:8080/"
        },
        "id": "OWVRuXco8lhT",
        "outputId": "3350f092-b8e6-4266-ff21-d1a806ae64e0"
      },
      "execution_count": null,
      "outputs": [
        {
          "output_type": "stream",
          "name": "stdout",
          "text": [
            "[4 6 8]\n"
          ]
        }
      ]
    },
    {
      "cell_type": "code",
      "source": [
        "#Q35. Create a NumPy function that extracts elements from a 2D array using row and column indices provided in separate arrays.\n",
        "#ans=\n",
        "def extract_elements_2d(arr, row_indices, col_indices):\n",
        "    # Ensure indices are within bounds\n",
        "    row_indices = np.clip(row_indices, 0, arr.shape[0] - 1)\n",
        "    col_indices = np.clip(col_indices, 0, arr.shape[1] - 1)\n",
        "    return arr[row_indices, col_indices]\n",
        "arr_2d = np.array([[1, 2, 3],\n",
        "                    [4, 5, 6],\n",
        "                    [7, 8, 9]])\n",
        "\n",
        "row_indices = np.array([0, 1, 2])  # Row indices\n",
        "col_indices = np.array([0, 1, 2])  # Column indices\n",
        "result = extract_elements_2d(arr_2d, row_indices, col_indices)\n",
        "print(result)  # Output: [1 5 9]"
      ],
      "metadata": {
        "colab": {
          "base_uri": "https://localhost:8080/"
        },
        "id": "8JFNfiAK8lez",
        "outputId": "4e30c4fc-c4a4-49ff-8fc6-25208364e50d"
      },
      "execution_count": null,
      "outputs": [
        {
          "output_type": "stream",
          "name": "stdout",
          "text": [
            "[1 5 9]\n"
          ]
        }
      ]
    },
    {
      "cell_type": "code",
      "source": [
        "#Q36. Given an array arr of shape (3, 3), add a scalar value of 5 to each element using NumPy broadcasting.\n",
        "#ans-\n",
        "import numpy as np\n",
        "arr = np.array([[1, 2, 3],\n",
        "                [4, 5, 6],\n",
        "                [7, 8, 9]])\n",
        "# Add scalar value of 5 to each element using broadcasting\n",
        "arr += 5\n",
        "print(arr)"
      ],
      "metadata": {
        "id": "uabd985l8lcm",
        "colab": {
          "base_uri": "https://localhost:8080/"
        },
        "outputId": "dc664d1f-0fe4-435b-ab8f-f08acdf9697a"
      },
      "execution_count": null,
      "outputs": [
        {
          "output_type": "stream",
          "name": "stdout",
          "text": [
            "[[ 6  7  8]\n",
            " [ 9 10 11]\n",
            " [12 13 14]]\n"
          ]
        }
      ]
    },
    {
      "cell_type": "code",
      "source": [
        "#Q37.Consider two arrays arr1 of shape (1, 3) and arr2 of shape (3, 4). Multiply each row of arr2 by the corresponding element in arr1 using NumPy broadcasting.\n",
        "#Ans-\n",
        "arr1 = np.array([[1, 2, 3]])\n",
        "arr2 = np.array([[1, 2, 3, 4],\n",
        "                 [5, 6, 7, 8],\n",
        "                 [9, 10, 11, 12]])\n",
        "# Reshape arr1 to match the shape of arr2 for broadcasting\n",
        "arr1_reshaped = arr1.reshape((3, 1))\n",
        "# Multiply each row of arr2 by the corresponding element in arr1 using broadcasting\n",
        "result = arr1_reshaped * arr2\n",
        "print(result)"
      ],
      "metadata": {
        "id": "iy08pbKQ8laK",
        "colab": {
          "base_uri": "https://localhost:8080/"
        },
        "outputId": "a272dd43-5155-4f17-86db-c3ebe28f5e9b"
      },
      "execution_count": null,
      "outputs": [
        {
          "output_type": "stream",
          "name": "stdout",
          "text": [
            "[[ 1  2  3  4]\n",
            " [10 12 14 16]\n",
            " [27 30 33 36]]\n"
          ]
        }
      ]
    },
    {
      "cell_type": "code",
      "source": [
        "#Q38. Given a 1D array arr1 of shape (1, 4) and a 2D array arr2 of shape (4, 3), add arr1 to each row of arr2 using NumPy broadcasting.\n",
        "#Ans-\n",
        "arr1 = np.array([[1, 2, 3, 4]])\n",
        "arr2 = np.array([[5, 6, 7],\n",
        "                 [8, 9, 10],\n",
        "                 [11, 12, 13],\n",
        "                 [14, 15, 16]])\n",
        "# Reshape arr1 to match the shape of arr2 along the rows\n",
        "arr1_reshaped = arr1.reshape(4, 1)\n",
        "# Perform broadcasting and addition\n",
        "result = arr2 + arr1_reshaped\n",
        "print(result)"
      ],
      "metadata": {
        "colab": {
          "base_uri": "https://localhost:8080/"
        },
        "id": "vBhpevwmR1y_",
        "outputId": "03eab18f-3685-48ca-8a3d-09fc1345291a"
      },
      "execution_count": null,
      "outputs": [
        {
          "output_type": "stream",
          "name": "stdout",
          "text": [
            "[[ 6  7  8]\n",
            " [10 11 12]\n",
            " [14 15 16]\n",
            " [18 19 20]]\n"
          ]
        }
      ]
    },
    {
      "cell_type": "code",
      "source": [
        "#Q39. Consider two arrays arr1 of shape (3, 1) and arr2 of shape (1, 3). Add these arrays using NumPy broadcasting.\n",
        "#Ans-\n",
        "# Define the arrays\n",
        "arr1 = np.array([[1],\n",
        "                  [2],\n",
        "                  [3]])\n",
        "arr2 = np.array([[4, 5, 6]])\n",
        "# Perform broadcasting and addition\n",
        "result = arr1 + arr2\n",
        "print(result)"
      ],
      "metadata": {
        "colab": {
          "base_uri": "https://localhost:8080/"
        },
        "id": "CLMDGplTR1wG",
        "outputId": "9997e9b0-3cb5-43db-da2a-60408c7b35f1"
      },
      "execution_count": null,
      "outputs": [
        {
          "output_type": "stream",
          "name": "stdout",
          "text": [
            "[[5 6 7]\n",
            " [6 7 8]\n",
            " [7 8 9]]\n"
          ]
        }
      ]
    },
    {
      "cell_type": "code",
      "source": [
        "#Q40. Given arrays arr1 of shape (2, 3) and arr2 of shape (2, 2), perform multiplication using NumPy broadcasting. Handle the shape incompatibility\n",
        "#ams\n",
        "arr1 = np.array([[1, 2, 3], [4, 5, 6]])  # Shape: (2, 3)\n",
        "arr2 = np.array([[2, 2], [2, 2]])        # Shape: (2, 2)\n",
        "# Expand dimensions of arr2 to match the shape of arr1\n",
        "expanded_arr2 = np.expand_dims(arr2, axis=-1)  # Shape: (2, 2, 1)\n",
        "# Perform multiplication\n",
        "result = arr1 * expanded_arr2\n",
        "print(result)"
      ],
      "metadata": {
        "id": "lvzed8E48lX8",
        "colab": {
          "base_uri": "https://localhost:8080/"
        },
        "outputId": "a8647d70-2c30-43e9-fbf5-4611ef214d8a"
      },
      "execution_count": null,
      "outputs": [
        {
          "output_type": "stream",
          "name": "stdout",
          "text": [
            "[[[ 2  4  6]\n",
            "  [ 8 10 12]]\n",
            "\n",
            " [[ 2  4  6]\n",
            "  [ 8 10 12]]]\n"
          ]
        }
      ]
    },
    {
      "cell_type": "code",
      "source": [
        "#Q41. Calculate column wise mean for the given array:\n",
        "arr = np.array([[1, 2, 3], [4, 5, 6]])\n",
        "#ans-\n",
        "arr = np.array([[1, 2, 3], [4, 5, 6]])\n",
        "# Calculate column-wise mean\n",
        "column_means = np.mean(arr, axis=0)\n",
        "print(\"Column-wise mean:\", column_means)"
      ],
      "metadata": {
        "id": "SGuu6r7c8lVp",
        "colab": {
          "base_uri": "https://localhost:8080/"
        },
        "outputId": "c0636130-c932-44f3-ecb3-11207c899ede"
      },
      "execution_count": null,
      "outputs": [
        {
          "output_type": "stream",
          "name": "stdout",
          "text": [
            "Column-wise mean: [2.5 3.5 4.5]\n"
          ]
        }
      ]
    },
    {
      "cell_type": "code",
      "source": [
        "#Q42. Find maximum value in each row of the given array:\n",
        "arr = np.array([[1, 2, 3], [4, 5, 6]])\n",
        "#ans-\n",
        "np.max(arr, axis=1)"
      ],
      "metadata": {
        "id": "iQWBnVn58lTY",
        "colab": {
          "base_uri": "https://localhost:8080/"
        },
        "outputId": "8906a16a-07cc-498c-8902-d96749c19c9f"
      },
      "execution_count": null,
      "outputs": [
        {
          "output_type": "execute_result",
          "data": {
            "text/plain": [
              "array([3, 6])"
            ]
          },
          "metadata": {},
          "execution_count": 14
        }
      ]
    },
    {
      "cell_type": "code",
      "source": [
        "#Q43.For the given array, find indices of maximum value in each column.\n",
        "arr = np.array([[1, 2, 3], [4, 5, 6]])\n",
        "#Ans-\n",
        "np.argmax(arr, axis=0)"
      ],
      "metadata": {
        "id": "zWBQRCrF8lPK",
        "colab": {
          "base_uri": "https://localhost:8080/"
        },
        "outputId": "4a2660a7-a5a2-4183-b281-ca74b4b78030"
      },
      "execution_count": null,
      "outputs": [
        {
          "output_type": "execute_result",
          "data": {
            "text/plain": [
              "array([1, 1, 1])"
            ]
          },
          "metadata": {},
          "execution_count": 18
        }
      ]
    },
    {
      "cell_type": "code",
      "source": [
        "#Q44.  For the given array, apply custom function to calculate moving sum along rows\n",
        "arr = np.array([[1, 2, 3], [4, 5, 6]])\n",
        "#ans-\n",
        "def moving_sum_along_rows(arr, window_size):\n",
        "    # Initialize an empty array to store the moving sums\n",
        "    moving_sums = np.zeros_like(arr, dtype=float)\n",
        "\n",
        "    # Iterate through each row\n",
        "    for i in range(arr.shape[0]):\n",
        "        # Calculate the moving sum for the current row\n",
        "        for j in range(arr.shape[1] - window_size + 1):\n",
        "            moving_sums[i, j:j+window_size] = np.sum(arr[i, j:j+window_size])\n",
        "\n",
        "    return moving_sums\n",
        "arr = np.array([[1, 2, 3], [4, 5, 6]])\n",
        "window_size = 2\n",
        "result = moving_sum_along_rows(arr, window_size)\n",
        "print(\"Moving sum along rows:\")\n",
        "print(result)"
      ],
      "metadata": {
        "colab": {
          "base_uri": "https://localhost:8080/"
        },
        "id": "lNxQ_gAgYRyP",
        "outputId": "f85e47ad-0f75-45eb-a376-b9ba44712ce8"
      },
      "execution_count": null,
      "outputs": [
        {
          "output_type": "stream",
          "name": "stdout",
          "text": [
            "Moving sum along rows:\n",
            "[[ 3.  5.  5.]\n",
            " [ 9. 11. 11.]]\n"
          ]
        }
      ]
    },
    {
      "cell_type": "code",
      "source": [
        "#Q45. In the given array, check if all elements in each column are even.\n",
        "arr = np.array([[2, 4, 6], [3, 5, 7]])\n",
        "#ans-\n",
        "arr = np.array([[2, 4, 6], [3, 5, 7]])\n",
        "# Check if all elements in each column are even\n",
        "are_columns_even = np.all(arr % 2 == 0, axis=0)\n",
        "print(\"Are all elements in each column even?\", are_columns_even)"
      ],
      "metadata": {
        "colab": {
          "base_uri": "https://localhost:8080/"
        },
        "id": "K-jG5pO-YRvq",
        "outputId": "992ceea3-a70a-4037-faf7-54dc824fe37b"
      },
      "execution_count": null,
      "outputs": [
        {
          "output_type": "stream",
          "name": "stdout",
          "text": [
            "Are all elements in each column even? [False False False]\n"
          ]
        }
      ]
    },
    {
      "cell_type": "code",
      "source": [
        "#Q46. Given a NumPy array arr, reshape it into a matrix of dimensions `m` rows and `n` columns. Return the reshaped matrix.\n",
        "original_array = np.array([1, 2, 3, 4, 5, 6])\n",
        "#ans-\n",
        "def reshape_matrix(arr, m, n):\n",
        "    reshaped_matrix = np.reshape(arr, (m, n))\n",
        "    return reshaped_matrix\n",
        "original_array = np.array([1, 2, 3, 4, 5, 6])\n",
        "m = 2\n",
        "n = 3\n",
        "reshaped_matrix = reshape_matrix(original_array, m, n)\n",
        "print(\"Reshaped matrix:\")\n",
        "print(reshaped_matrix)"
      ],
      "metadata": {
        "colab": {
          "base_uri": "https://localhost:8080/"
        },
        "id": "BbdFCRyXYRsS",
        "outputId": "d4714083-b5b3-48eb-dcae-343abccf12bb"
      },
      "execution_count": null,
      "outputs": [
        {
          "output_type": "stream",
          "name": "stdout",
          "text": [
            "Reshaped matrix:\n",
            "[[1 2 3]\n",
            " [4 5 6]]\n"
          ]
        }
      ]
    },
    {
      "cell_type": "code",
      "source": [
        "#Q47. Create a function that takes a matrix as input and returns the flattened array.\n",
        "input_matrix = np.array([[1, 2, 3], [4, 5, 6]])\n",
        "#Ans-\n",
        "def flatten_matrix(matrix):\n",
        "    flattened_array = matrix.flatten()\n",
        "    return flattened_array\n",
        "input_matrix = np.array([[1, 2, 3], [4, 5, 6]])\n",
        "flattened_array = flatten_matrix(input_matrix)\n",
        "print(\"Flattened array:\")\n",
        "print(flattened_array)"
      ],
      "metadata": {
        "colab": {
          "base_uri": "https://localhost:8080/"
        },
        "id": "wLPpZPFFYRoV",
        "outputId": "5c9153e0-cf5a-443f-9935-ee2ade359b67"
      },
      "execution_count": null,
      "outputs": [
        {
          "output_type": "stream",
          "name": "stdout",
          "text": [
            "Flattened array:\n",
            "[1 2 3 4 5 6]\n"
          ]
        }
      ]
    },
    {
      "cell_type": "code",
      "source": [
        "#Q48.  Write a function that concatenates two given arrays along a specified axis.\n",
        "array1 = np.array([[1, 2], [3, 4]])\n",
        "array2 = np.array([[5, 6], [7, 8]])\n",
        "#ans\n",
        "def concatenate_arrays(array1, array2, axis=0):\n",
        "    \"\"\"\n",
        "    Concatenates two arrays along the specified axis.\n",
        "    Parameters:\n",
        "        array1 (numpy.ndarray): First array.\n",
        "        array2 (numpy.ndarray): Second array.\n",
        "        axis (int, optional): Axis along which arrays will be concatenated. Default is 0.\n",
        "    Returns:\n",
        "        numpy.ndarray: Concatenated array.\n",
        "    \"\"\"\n",
        "    return np.concatenate((array1, array2), axis=axis)\n",
        "array1 = np.array([[1, 2], [3, 4]])\n",
        "array2 = np.array([[5, 6], [7, 8]])\n",
        "result = concatenate_arrays(array1, array2, axis=0)\n",
        "print(\"Concatenated along axis 0:\\n\", result)\n",
        "result = concatenate_arrays(array1, array2, axis=1)\n",
        "print(\"\\nConcatenated along axis 1:\\n\", result)"
      ],
      "metadata": {
        "colab": {
          "base_uri": "https://localhost:8080/"
        },
        "id": "dXrSNaXjYRjz",
        "outputId": "136d950c-cf0f-4748-ce51-dcb00de936da"
      },
      "execution_count": null,
      "outputs": [
        {
          "output_type": "stream",
          "name": "stdout",
          "text": [
            "Concatenated along axis 0:\n",
            " [[1 2]\n",
            " [3 4]\n",
            " [5 6]\n",
            " [7 8]]\n",
            "\n",
            "Concatenated along axis 1:\n",
            " [[1 2 5 6]\n",
            " [3 4 7 8]]\n"
          ]
        }
      ]
    },
    {
      "cell_type": "code",
      "source": [
        "#Q49. Create a function that splits an array into multiple sub-arrays along a specified axis.\n",
        "original_array = np.array([[1, 2, 3], [4, 5, 6], [7, 8, 9]])\n",
        "#ans-\n",
        "def split_array(original_array, num_splits, axis=0):\n",
        "    \"\"\"\n",
        "    Splits an array into multiple sub-arrays along the specified axis.\n",
        "    Parameters:\n",
        "        original_array (numpy.ndarray): Original array.\n",
        "        num_splits (int): Number of splits along the specified axis.\n",
        "        axis (int, optional): Axis along which to split the array. Default is 0.\n",
        "    Returns:\n",
        "        list of numpy.ndarray: List of sub-arrays.\n",
        "    \"\"\"\n",
        "    return np.split(original_array, num_splits, axis=axis)\n",
        "original_array = np.array([[1, 2, 3], [4, 5, 6], [7, 8, 9]])\n",
        "result = split_array(original_array, num_splits=3, axis=0)\n",
        "print(\"Split along axis 0:\\n\", result)\n",
        "result = split_array(original_array, num_splits=3, axis=1)\n",
        "print(\"\\nSplit along axis 1:\\n\", result)"
      ],
      "metadata": {
        "colab": {
          "base_uri": "https://localhost:8080/"
        },
        "id": "jwIXsZi7YRfy",
        "outputId": "3f6bf82b-0c10-4e37-a6fa-305dd1008231"
      },
      "execution_count": null,
      "outputs": [
        {
          "output_type": "stream",
          "name": "stdout",
          "text": [
            "Split along axis 0:\n",
            " [array([[1, 2, 3]]), array([[4, 5, 6]]), array([[7, 8, 9]])]\n",
            "\n",
            "Split along axis 1:\n",
            " [array([[1],\n",
            "       [4],\n",
            "       [7]]), array([[2],\n",
            "       [5],\n",
            "       [8]]), array([[3],\n",
            "       [6],\n",
            "       [9]])]\n"
          ]
        }
      ]
    },
    {
      "cell_type": "code",
      "source": [
        "#Q50. Write a function that inserts and then deletes elements from a given array at specified indices\n",
        "original_array = np.array([1, 2, 3, 4, 5])\n",
        "indices_to_insert = [2, 4]\n",
        "values_to_insert = [10, 11]\n",
        "indices_to_delete = [1, 3]\n",
        "#Ans-\n",
        "def insert_and_delete_elements(original_array, indices_to_insert, values_to_insert, indices_to_delete):\n",
        "    \"\"\"\n",
        "    Inserts elements into and then deletes elements from a given array at specified indices.\n",
        "    Parameters:\n",
        "        original_array (numpy.ndarray): Original array.\n",
        "        indices_to_insert (list): Indices at which to insert elements.\n",
        "        values_to_insert (list): Values to insert at specified indices.\n",
        "        indices_to_delete (list): Indices at which to delete elements.\n",
        "    Returns:\n",
        "        numpy.ndarray: Updated array.\n",
        "    \"\"\"\n",
        "    for index, value in zip(indices_to_insert, values_to_insert):\n",
        "        original_array = np.insert(original_array, index, value)\n",
        "\n",
        "    original_array = np.delete(original_array, indices_to_delete)\n",
        "    return original_array\n",
        "original_array = np.array([1, 2, 3, 4, 5])\n",
        "indices_to_insert = [2, 4]\n",
        "values_to_insert = [10, 11]\n",
        "indices_to_delete = [1, 3]\n",
        "result = insert_and_delete_elements(original_array, indices_to_insert, values_to_insert, indices_to_delete)\n",
        "print(\"Updated array:\", result)"
      ],
      "metadata": {
        "colab": {
          "base_uri": "https://localhost:8080/"
        },
        "id": "vSRcvEqsYRah",
        "outputId": "419857a1-3d49-489f-abe1-64b0a2538185"
      },
      "execution_count": null,
      "outputs": [
        {
          "output_type": "stream",
          "name": "stdout",
          "text": [
            "Updated array: [ 1 10 11  4  5]\n"
          ]
        }
      ]
    },
    {
      "cell_type": "code",
      "source": [
        "#Q51. Create a NumPy array `arr1` with random integers and another array `arr2` with integers from 1 to 10. Perform element-wise addition between `arr1` and `arr2`.\n",
        "#Ans-\n",
        "# Create a NumPy array arr1 with random integers\n",
        "arr1 = np.random.randint(1, 100, size=10)\n",
        "# Create another NumPy array arr2 with integers from 1 to 10\n",
        "arr2 = np.arange(1, 11)\n",
        "# Perform element-wise addition between arr1 and arr2\n",
        "result = arr1 + arr2\n",
        "print(\"arr1:\")\n",
        "print(arr1)\n",
        "print(\"\\narr2:\")\n",
        "print(arr2)\n",
        "print(\"\\nElement-wise addition result:\")\n",
        "print(result)"
      ],
      "metadata": {
        "id": "VscKK1yQqIx_",
        "colab": {
          "base_uri": "https://localhost:8080/"
        },
        "outputId": "46e184d3-1119-45b6-d537-9ffd13578c33"
      },
      "execution_count": null,
      "outputs": [
        {
          "output_type": "stream",
          "name": "stdout",
          "text": [
            "arr1:\n",
            "[ 1 28 86 18 88  7 78 54 47 79]\n",
            "\n",
            "arr2:\n",
            "[ 1  2  3  4  5  6  7  8  9 10]\n",
            "\n",
            "Element-wise addition result:\n",
            "[ 2 30 89 22 93 13 85 62 56 89]\n"
          ]
        }
      ]
    },
    {
      "cell_type": "code",
      "source": [
        "#Q52. Generate a NumPy array `arr1` with sequential integers from 10 to 1 and another array `arr2` with integers from 1 to 10. Subtract `arr2` from `arr1` element-wise.\n",
        "#Ans\n",
        "arr1 = np.arange(10, 0, -1)  # Creates an array with integers from 10 to 1 in descending order\n",
        "print(\"arr1:\")\n",
        "print(arr1\n",
        "arr2 = np.arange(1, 11)  # Creates an array with integers from 1 to 10\n",
        "print(\"\\narr2:\")\n",
        "print(arr2)\n",
        "result = arr1 - arr2\n",
        "print(\"\\nResult of element-wise subtraction:\")\n",
        "print(result)"
      ],
      "metadata": {
        "colab": {
          "base_uri": "https://localhost:8080/"
        },
        "id": "Phu0CQx0ej_V",
        "outputId": "142e6b7e-7bb0-4034-ba50-94fa4ac94d08"
      },
      "execution_count": null,
      "outputs": [
        {
          "output_type": "stream",
          "name": "stdout",
          "text": [
            "arr1:\n",
            "[10  9  8  7  6  5  4  3  2  1]\n",
            "\n",
            "arr2:\n",
            "[ 1  2  3  4  5  6  7  8  9 10]\n",
            "\n",
            "Result of element-wise subtraction:\n",
            "[ 9  7  5  3  1 -1 -3 -5 -7 -9]\n"
          ]
        }
      ]
    },
    {
      "cell_type": "code",
      "source": [
        "#Q53. Create a NumPy array `arr1` with random integers and another array `arr2` with integers from 1 to 5. Perform element-wise multiplication between `arr1` and `arr2`.\n",
        "#Ans-\n",
        "# Create a NumPy array arr1 with random integers\n",
        "arr1 = np.random.randint(1, 100, size=5)\n",
        "# Create another NumPy array arr2 with integers from 1 to 5\n",
        "arr2 = np.arange(1, 6)\n",
        "# Perform element-wise multiplication between arr1 and arr2\n",
        "result = arr1 * arr2\n",
        "print(\"arr1:\")\n",
        "print(arr1)\n",
        "print(\"\\narr2:\")\n",
        "print(arr2)\n",
        "print(\"\\nElement-wise multiplication result:\")\n",
        "print(result)"
      ],
      "metadata": {
        "colab": {
          "base_uri": "https://localhost:8080/"
        },
        "id": "vfVuQgcnqHaG",
        "outputId": "4921655b-4816-45f2-b893-d24241c75e04"
      },
      "execution_count": null,
      "outputs": [
        {
          "output_type": "stream",
          "name": "stdout",
          "text": [
            "arr1:\n",
            "[84 93 81 51 10]\n",
            "\n",
            "arr2:\n",
            "[1 2 3 4 5]\n",
            "\n",
            "Element-wise multiplication result:\n",
            "[ 84 186 243 204  50]\n"
          ]
        }
      ]
    },
    {
      "cell_type": "code",
      "source": [
        "#Q54. Generate a NumPy array `arr1` with even integers from 2 to 10 and another array `arr2` with integers from 1 to 5. Perform element-wise division of `arr1` by `arr2`.\n",
        "#Ans-\n",
        "arr1 = np.arange(2, 11, 2)  # Creates an array with even integers from 2 to 10\n",
        "print(\"arr1:\")\n",
        "print(arr1)\n",
        "arr2 = np.arange(1, 6)  # Creates an array with integers from 1 to 5\n",
        "print(\"\\narr2:\")\n",
        "print(arr2)\n",
        "result = arr1 / arr2\n",
        "print(\"\\nResult of element-wise division:\")\n",
        "print(result)"
      ],
      "metadata": {
        "colab": {
          "base_uri": "https://localhost:8080/"
        },
        "id": "wVo5F5VmqHXi",
        "outputId": "10d77066-c262-43e5-b006-9383b088e18f"
      },
      "execution_count": null,
      "outputs": [
        {
          "output_type": "stream",
          "name": "stdout",
          "text": [
            "arr1:\n",
            "[ 2  4  6  8 10]\n",
            "\n",
            "arr2:\n",
            "[1 2 3 4 5]\n",
            "\n",
            "Result of element-wise division:\n",
            "[2. 2. 2. 2. 2.]\n"
          ]
        }
      ]
    },
    {
      "cell_type": "code",
      "source": [
        "#Q55. Create a NumPy array `arr1` with integers from 1 to 5 and another array `arr2` with the same numbers reversed. Calculate the exponentiation of `arr1` raised to the power of `arr2` element-wise\n",
        "#Ans\n",
        "arr1 = np.array([1, 2, 3, 4, 5])# Create arr1 with integers from 1 to 5\n",
        "print(\"arr1:\")\n",
        "print(arr1)\n",
        "arr2 = arr1[::-1]# Create arr2 with the same numbers reversed\n",
        "print(\"\\narr2:\")\n",
        "print(arr2)\n",
        "result = np.power(arr1, arr2)\n",
        "print(\"\\nResult of element-wise exponentiation:\")\n",
        "print(result)"
      ],
      "metadata": {
        "colab": {
          "base_uri": "https://localhost:8080/"
        },
        "id": "k-anmxQjqHVR",
        "outputId": "1f6cb467-bab6-4f6d-c3ab-42e63ee13c30"
      },
      "execution_count": null,
      "outputs": [
        {
          "output_type": "stream",
          "name": "stdout",
          "text": [
            "arr1:\n",
            "[1 2 3 4 5]\n",
            "\n",
            "arr2:\n",
            "[5 4 3 2 1]\n",
            "\n",
            "Result of element-wise exponentiation:\n",
            "[ 1 16 27 16  5]\n"
          ]
        }
      ]
    },
    {
      "cell_type": "code",
      "source": [
        "#Q56. Write a function that counts the occurrences of a specific substring within a NumPy array of strings.\n",
        "arr = np.array(['hello', 'world', 'hello', 'numpy', 'hello'])\n",
        "#Ans-\n",
        "def count_substring_occurrences(arr, substring):\n",
        "    \"\"\"\n",
        "    Count the occurrences of a specific substring within a NumPy array of strings.\n",
        "\n",
        "    Parameters:\n",
        "        arr (numpy.ndarray): The NumPy array of strings.\n",
        "        substring (str): The substring to count occurrences of.\n",
        "\n",
        "    Returns:\n",
        "        int: The number of occurrences of the substring.\n",
        "    \"\"\"\n",
        "    # Join all strings in the array into a single string\n",
        "    joined_string = ' '.join(arr)\n",
        "    # Count occurrences of the substring in the joined string\n",
        "    count = joined_string.count(substring)\n",
        "    return count\n",
        "arr = np.array(['hello', 'world', 'hello', 'numpy', 'hello'])\n",
        "substring = 'hello'\n",
        "occurrences = count_substring_occurrences(arr, substring)\n",
        "print(f\"The substring '{substring}' occurs {occurrences} times in the array.\")"
      ],
      "metadata": {
        "colab": {
          "base_uri": "https://localhost:8080/"
        },
        "id": "CPRtSaZuqHS2",
        "outputId": "adcf0b1b-3bbf-4df5-c440-90294585ad91"
      },
      "execution_count": null,
      "outputs": [
        {
          "output_type": "stream",
          "name": "stdout",
          "text": [
            "The substring 'hello' occurs 3 times in the array.\n"
          ]
        }
      ]
    },
    {
      "cell_type": "code",
      "source": [
        "#Q57. Write a function that extracts uppercase characters from a NumPy array of strings.\n",
        "arr = np.array(['Hello', 'World', 'OpenAI', 'GPT'])\n",
        "#Ans-\n",
        "np.char.upper(arr)"
      ],
      "metadata": {
        "colab": {
          "base_uri": "https://localhost:8080/"
        },
        "id": "Ke0zXq5nej3e",
        "outputId": "6d1c91da-7e5e-4b59-9108-25a12e8e2089"
      },
      "execution_count": null,
      "outputs": [
        {
          "output_type": "execute_result",
          "data": {
            "text/plain": [
              "array(['HELLO', 'WORLD', 'OPENAI', 'GPT'], dtype='<U6')"
            ]
          },
          "metadata": {},
          "execution_count": 43
        }
      ]
    },
    {
      "cell_type": "code",
      "source": [
        "#Q58.  Write a function that replaces occurrences of a substring in a NumPy array of strings with a new string.\n",
        "arr = np.array(['apple', 'banana', 'grape', 'pineapple'])\n",
        "#ans-\n",
        "arr[0] = ('mango')\n",
        "arr"
      ],
      "metadata": {
        "colab": {
          "base_uri": "https://localhost:8080/"
        },
        "id": "DENbxEDAuCam",
        "outputId": "7b2a6244-705a-404f-f08a-1791fc19a4fb"
      },
      "execution_count": null,
      "outputs": [
        {
          "output_type": "execute_result",
          "data": {
            "text/plain": [
              "array(['mango', 'banana', 'grape', 'pineapple'], dtype='<U9')"
            ]
          },
          "metadata": {},
          "execution_count": 46
        }
      ]
    },
    {
      "cell_type": "code",
      "source": [
        "#Q59. Write a function that concatenates strings in a NumPy array element-wise.\n",
        "arr1 = np.array(['Hello', 'World'])\n",
        "arr2 = np.array(['Open', 'AI'])\n",
        "#Ans-\n",
        "def concatenate_strings(arr1, arr2):\n",
        "    \"\"\"\n",
        "    Concatenate strings in two NumPy arrays element-wise.\n",
        "    Parameters:\n",
        "        arr1 (numpy.ndarray): The first NumPy array of strings.\n",
        "        arr2 (numpy.ndarray): The second NumPy array of strings.\n",
        "    Returns:\n",
        "        numpy.ndarray: A NumPy array with concatenated strings.\n",
        "    \"\"\"\n",
        "       concatenated_arr = np.char.add(arr1, arr2) # Use np.char.add to concatenate strings element-wise\n",
        "    return concatenated_arr\n",
        "arr1 = np.array(['Hello', 'World'])\n",
        "arr2 = np.array(['Open', 'AI'])\n",
        "concatenated_arr = concatenate_strings(arr1, arr2)\n",
        "print(\"Array with concatenated strings:\")\n",
        "print(concatenated_arr)"
      ],
      "metadata": {
        "colab": {
          "base_uri": "https://localhost:8080/"
        },
        "id": "FDIY10Kcuutd",
        "outputId": "3c0ab59e-28dd-432f-930f-6595c80406b7"
      },
      "execution_count": null,
      "outputs": [
        {
          "output_type": "stream",
          "name": "stdout",
          "text": [
            "Array with concatenated strings:\n",
            "['HelloOpen' 'WorldAI']\n"
          ]
        }
      ]
    },
    {
      "cell_type": "code",
      "source": [
        "#Q60. Write a function that finds the length of the longest string in a NumPy array.\n",
        "arr = np.array(['apple', 'banana', 'grape', 'pineapple'])\n",
        "#ANS-\n",
        "def longest_string_length(arr):\n",
        "    # Use max() function with a lambda function to find the length of each string\n",
        "    max_length = max(len(s) for s in arr)\n",
        "    return max_length\n",
        "arr = np.array(['apple', 'banana', 'grape', 'pineapple'])\n",
        "print(longest_string_length(arr))"
      ],
      "metadata": {
        "colab": {
          "base_uri": "https://localhost:8080/"
        },
        "id": "vVHOmc54wP_C",
        "outputId": "62a9f236-0f73-4b06-f2e7-a31a232a3e0d"
      },
      "execution_count": null,
      "outputs": [
        {
          "output_type": "stream",
          "name": "stdout",
          "text": [
            "9\n"
          ]
        }
      ]
    },
    {
      "cell_type": "code",
      "source": [
        "#Q 61. Create a dataset of 100 random integers between 1 and 1000. Compute the mean, median, variance, and  standard deviation of the dataset using NumPy's functions.\n",
        "#ans-\n",
        "dataset = np.random.randint(1, 1001, size=100)\n",
        "mean = np.mean(dataset)# Compute the mean of the dataset\n",
        "median = np.median(dataset)\n",
        "variance = np.var(dataset)\n",
        "std_deviation = np.std(dataset)# Compute the standard deviation of the dataset\n",
        "print(\"Dataset:\", dataset)\n",
        "print(\"Mean:\", mean)\n",
        "print(\"Median:\", median)\n",
        "print(\"Variance:\", variance)\n",
        "print(\"Standard Deviation:\", std_deviation)"
      ],
      "metadata": {
        "colab": {
          "base_uri": "https://localhost:8080/"
        },
        "id": "nzLIbDf0uBpP",
        "outputId": "b949a696-3d59-4b7c-a5bd-d29ceab5698f"
      },
      "execution_count": null,
      "outputs": [
        {
          "output_type": "stream",
          "name": "stdout",
          "text": [
            "Dataset: [939 193 607 400 260   8 794 199 526 916 741 694 696 582  51 693 380 188\n",
            "   9 655 191 730 780 425 945 623 816 492 633 430 969 185  79 397   5 909\n",
            " 116  10 613  68 799  78 416 150 440 626 622 378 793 236 628 414 140 829\n",
            " 106 633 980 789 718 673 275 210  32 344  69 216 201 544 506 816 985 689\n",
            " 944 277 277 494 647  72  76 717  16 297  24  89 894  64 864 910 582  47\n",
            " 765 751  65 360 656 887 378 404 361 520]\n",
            "Mean: 467.2\n",
            "Median: 466.0\n",
            "Variance: 90337.0\n",
            "Standard Deviation: 300.56114186634306\n"
          ]
        }
      ]
    },
    {
      "cell_type": "code",
      "source": [
        "#Q62. Generate an array of 50 random numbers between 1 and 100. Find the 25th and 75th percentiles of the dataset.\n",
        "#ans-\n",
        "random_numbers = np.random.randint(1, 101, size=50)\n",
        "percentile_25 = np.percentile(random_numbers, 25)\n",
        "percentile_75 = np.percentile(random_numbers, 75)\n",
        "print(\"Random Numbers:\", random_numbers)\n",
        "print(\"25th Percentile:\", percentile_25)\n",
        "print(\"75th Percentile:\", percentile_75)"
      ],
      "metadata": {
        "colab": {
          "base_uri": "https://localhost:8080/"
        },
        "id": "Q9nZ-EJvvv2b",
        "outputId": "09d11ed7-3451-4b30-eac3-0eb4ad8e7ab4"
      },
      "execution_count": null,
      "outputs": [
        {
          "output_type": "stream",
          "name": "stdout",
          "text": [
            "Random Numbers: [ 9 69 16 63 93 58 53 38 30 79 57 38 22 37 79 22 17 78 16 81 57 28 69 84\n",
            " 14  5 10 25 47  9 50 79  8 72 92 26 29 42 12 93 60 45 87 48 23 27  5 33\n",
            " 48 20]\n",
            "25th Percentile: 22.0\n",
            "75th Percentile: 67.5\n"
          ]
        }
      ]
    },
    {
      "cell_type": "code",
      "source": [
        "#Q63. Create two arrays representing two sets of variables. Compute the correlation coefficient between these arrays using NumPy's `corrcoef` function.\n",
        "#Ans-\n",
        "array1 = np.random.rand(100)\n",
        "array2 = np.random.rand(100)\n",
        "correlation_coefficient = np.corrcoef(array1, array2)[0, 1]\n",
        "print(\"Array 1:\", array1)\n",
        "print(\"Array 2:\", array2)\n",
        "print(\"Correlation Coefficient:\", correlation_coefficient)"
      ],
      "metadata": {
        "colab": {
          "base_uri": "https://localhost:8080/"
        },
        "id": "IasyPiqMzF82",
        "outputId": "d91d1e37-33fd-46f4-a4cd-40c7fdafcfb7"
      },
      "execution_count": null,
      "outputs": [
        {
          "output_type": "stream",
          "name": "stdout",
          "text": [
            "Array 1: [8.07628365e-01 1.52359452e-01 9.66600315e-01 1.52154866e-01\n",
            " 2.13137644e-01 7.44436425e-01 1.39235619e-01 2.07290193e-01\n",
            " 2.25670673e-01 4.54755231e-02 4.81415179e-01 1.61559898e-01\n",
            " 9.23232977e-01 9.96472597e-01 5.92906180e-01 9.69146204e-01\n",
            " 8.29580314e-01 2.67974167e-01 6.82842786e-01 4.07774560e-01\n",
            " 1.53494639e-01 4.49310845e-01 1.90293553e-01 5.70352910e-02\n",
            " 9.77936788e-01 9.01627477e-01 9.11627225e-01 1.37917958e-01\n",
            " 1.15458419e-01 7.91208136e-02 5.68589952e-01 4.01275142e-01\n",
            " 7.09181120e-01 8.67730029e-02 2.01965497e-02 9.27928442e-01\n",
            " 9.99500976e-01 5.09704113e-01 2.77354857e-01 6.42630030e-01\n",
            " 2.00324808e-01 6.91873838e-01 8.59102846e-01 4.95558168e-01\n",
            " 7.10274119e-04 4.10506518e-01 3.26163256e-01 2.21264695e-01\n",
            " 6.71681116e-02 4.21416332e-01 2.68094758e-01 4.06813473e-01\n",
            " 8.19542138e-01 9.82619134e-01 6.64081107e-01 6.49712890e-01\n",
            " 8.53962876e-01 1.75521978e-01 3.16791487e-01 5.06924737e-02\n",
            " 7.37537611e-01 3.72589410e-01 5.04171617e-01 1.80611065e-01\n",
            " 1.68977785e-01 1.31107000e-01 1.83648514e-01 6.84751733e-01\n",
            " 2.77241138e-01 3.06211793e-01 4.03626348e-01 7.56274513e-01\n",
            " 8.43626013e-01 2.61097440e-01 8.07699042e-01 5.22590195e-01\n",
            " 6.59612873e-01 1.75781966e-01 9.60110333e-01 7.33804332e-02\n",
            " 1.03512630e-01 4.47466273e-01 3.14137984e-01 9.17045830e-01\n",
            " 3.09813874e-01 1.10665308e-01 3.74175230e-01 7.45589681e-01\n",
            " 2.97336733e-01 7.94644678e-01 1.52013978e-02 8.02853719e-01\n",
            " 5.51646113e-01 5.26767932e-01 8.71096384e-01 9.73347409e-02\n",
            " 1.39897780e-01 3.04219350e-01 9.56792476e-01 8.91600331e-01]\n",
            "Array 2: [0.88829491 0.81104117 0.24684531 0.43929128 0.06607802 0.29218615\n",
            " 0.54101118 0.89923829 0.50719683 0.23184437 0.94583425 0.00330437\n",
            " 0.42789659 0.21099215 0.21389504 0.12114468 0.59285248 0.80645185\n",
            " 0.59640586 0.78783084 0.57606531 0.8749602  0.77948686 0.89129105\n",
            " 0.38487219 0.30020997 0.37878    0.15580388 0.12558332 0.26053865\n",
            " 0.91396656 0.32931913 0.28963307 0.14579951 0.78926599 0.25200672\n",
            " 0.82183835 0.4682542  0.65294821 0.45191959 0.45579646 0.64320364\n",
            " 0.31811446 0.80017056 0.84104621 0.10031221 0.87645587 0.61977575\n",
            " 0.10155658 0.92547232 0.46832344 0.8739175  0.19082798 0.96946535\n",
            " 0.37040911 0.30815022 0.50516369 0.07771855 0.76616443 0.91874105\n",
            " 0.145258   0.92066553 0.92754484 0.75734271 0.40688414 0.26355843\n",
            " 0.11632512 0.86940805 0.77338761 0.83893098 0.31504495 0.59078195\n",
            " 0.1365248  0.83158713 0.00267922 0.79689553 0.82958927 0.97795473\n",
            " 0.92236445 0.79824299 0.18840856 0.48942769 0.96809337 0.07925833\n",
            " 0.10269204 0.68297011 0.98802352 0.10189119 0.60226333 0.84353655\n",
            " 0.97266486 0.42997887 0.68306096 0.45041816 0.55693964 0.78063623\n",
            " 0.60719312 0.69601126 0.07394428 0.19336031]\n",
            "Correlation Coefficient: -0.18899044328806158\n"
          ]
        }
      ]
    },
    {
      "cell_type": "code",
      "source": [
        "#Q64. . Create two matrices and perform matrix multiplication using NumPy's `dot` function\n",
        "#ans-\n",
        "matrix1 = np.array([[1, 2, 3],\n",
        "                    [4, 5, 6],\n",
        "                    [7, 8, 9]])\n",
        "\n",
        "matrix2 = np.array([[9, 8, 7],\n",
        "                    [6, 5, 4],\n",
        "                    [3, 2, 1]])\n",
        "\n",
        "result = np.dot(matrix1, matrix2)\n",
        "print(\"Matrix 1:\")\n",
        "print(matrix1)\n",
        "print(\"\\nMatrix 2:\")\n",
        "print(matrix2)\n",
        "print(\"\\nResult of Matrix Multiplication:\")\n",
        "print(result)\n"
      ],
      "metadata": {
        "colab": {
          "base_uri": "https://localhost:8080/"
        },
        "id": "N_hTm1g5zF30",
        "outputId": "e9943298-29e2-4b9b-8949-d7628d7ea35d"
      },
      "execution_count": null,
      "outputs": [
        {
          "output_type": "stream",
          "name": "stdout",
          "text": [
            "Matrix 1:\n",
            "[[1 2 3]\n",
            " [4 5 6]\n",
            " [7 8 9]]\n",
            "\n",
            "Matrix 2:\n",
            "[[9 8 7]\n",
            " [6 5 4]\n",
            " [3 2 1]]\n",
            "\n",
            "Result of Matrix Multiplication:\n",
            "[[ 30  24  18]\n",
            " [ 84  69  54]\n",
            " [138 114  90]]\n"
          ]
        }
      ]
    },
    {
      "cell_type": "code",
      "source": [
        "#Q65. Create an array of 50 integers between 10 and 1000. Calculate the 10th, 50th (median), and 90th percentiles along with the first and third quartiles.\n",
        "#ans-\n",
        "random_numbers = np.random.randint(10, 1001, size=50)\n",
        "percentiles = np.percentile(random_numbers, [10, 50, 90])\n",
        "first_quartile = np.percentile(random_numbers, 25)\n",
        "third_quartile = np.percentile(random_numbers, 75)\n",
        "print(\"Array of random numbers:\", random_numbers)\n",
        "print(\"10th Percentile:\", percentiles[0])\n",
        "print(\"50th Percentile (Median):\", percentiles[1])\n",
        "print(\"90th Percentile:\", percentiles[2])\n",
        "print(\"First Quartile (25th Percentile):\", first_quartile)\n",
        "print(\"Third Quartile (75th Percentile):\", third_quartile)"
      ],
      "metadata": {
        "colab": {
          "base_uri": "https://localhost:8080/"
        },
        "id": "PfHgTI2szFzU",
        "outputId": "f991d437-1ca3-46d5-fa2b-17bf123c9a88"
      },
      "execution_count": null,
      "outputs": [
        {
          "output_type": "stream",
          "name": "stdout",
          "text": [
            "Array of random numbers: [579 382 532 505 944 804 225 729 245 166 165 989 761 303 368 189 822 834\n",
            " 298 254 322 738  34 182 336 316 689 506 413  63 338 763 715 504 319 912\n",
            " 775 560  83 439 533  55 111 538 698 818 777 414 287 632]\n",
            "10th Percentile: 159.60000000000002\n",
            "50th Percentile (Median): 471.5\n",
            "90th Percentile: 818.4\n",
            "First Quartile (25th Percentile): 289.75\n",
            "Third Quartile (75th Percentile): 725.5\n"
          ]
        }
      ]
    },
    {
      "cell_type": "code",
      "source": [
        "#Q66. Create a NumPy array of integers and find the index of a specific element.\n",
        "#ans-\n",
        "array = np.array([10, 20, 30, 40, 50])\n",
        "element_to_find = 30 # Example\n",
        "index = np.where(array == element_to_find)[0]\n",
        "print(\"Array:\", array)\n",
        "print(\"Index of\", element_to_find, \":\", index)"
      ],
      "metadata": {
        "colab": {
          "base_uri": "https://localhost:8080/"
        },
        "id": "Bs8CbyvE0GJv",
        "outputId": "09f0b9c6-58a1-43d7-87fa-f1fcf0d2a734"
      },
      "execution_count": null,
      "outputs": [
        {
          "output_type": "stream",
          "name": "stdout",
          "text": [
            "Array: [10 20 30 40 50]\n",
            "Index of 30 : [2]\n"
          ]
        }
      ]
    },
    {
      "cell_type": "code",
      "source": [
        "#Q67. Generate a random NumPy array and sort it in ascending order\n",
        "#ans-\n",
        "random_array = np.random.randint(1, 100, size=10)\n",
        "np.sort(random_array)"
      ],
      "metadata": {
        "colab": {
          "base_uri": "https://localhost:8080/"
        },
        "id": "Y1ZE-LVD0GEs",
        "outputId": "1cbfce31-a424-417e-de7c-a5183e239e4a"
      },
      "execution_count": null,
      "outputs": [
        {
          "output_type": "execute_result",
          "data": {
            "text/plain": [
              "array([ 9, 14, 32, 37, 39, 57, 69, 80, 92, 98])"
            ]
          },
          "metadata": {},
          "execution_count": 63
        }
      ]
    },
    {
      "cell_type": "code",
      "source": [
        "#Q68. Filter elements >20  in the given NumPy array.\n",
        "arr = np.array([12, 25, 6, 42, 8, 30])\n",
        "#ans-\n",
        "filtered_arr = arr[arr > 20]\n",
        "print(\"Original Array:\", arr)\n",
        "print(\"Filtered Array (elements > 20):\", filtered_arr)"
      ],
      "metadata": {
        "colab": {
          "base_uri": "https://localhost:8080/"
        },
        "id": "3VdntpPj0GAj",
        "outputId": "cd3cf73c-a453-444c-a630-e3497114f873"
      },
      "execution_count": null,
      "outputs": [
        {
          "output_type": "stream",
          "name": "stdout",
          "text": [
            "Original Array: [12 25  6 42  8 30]\n",
            "Filtered Array (elements > 20): [25 42 30]\n"
          ]
        }
      ]
    },
    {
      "cell_type": "code",
      "source": [
        "#Q69. Filter elements which are divisible by 3 from a given NumPy array.\n",
        "arr = np.array([1, 5, 8, 12, 15])\n",
        "#Ans\n",
        "filtered_arr = arr[arr % 3 == 0]\n",
        "filtered_arr"
      ],
      "metadata": {
        "colab": {
          "base_uri": "https://localhost:8080/"
        },
        "id": "L9b_dQow0F8z",
        "outputId": "f30dc436-cd1d-47a1-f850-dd01051abe0a"
      },
      "execution_count": null,
      "outputs": [
        {
          "output_type": "execute_result",
          "data": {
            "text/plain": [
              "array([12, 15])"
            ]
          },
          "metadata": {},
          "execution_count": 66
        }
      ]
    },
    {
      "cell_type": "code",
      "source": [
        "#Q70. Filter elements which are ≥ 20 and ≤ 40 from a given NumPy array.\n",
        "arr = np.array([10, 20, 30, 40, 50])\n",
        "arr = np.array([10, 20, 30, 40, 50])\n",
        "filtered_arr = arr[(arr >= 20) & (arr <= 40)]\n",
        "print(\"Original Array:\", arr)\n",
        "print(\"Filtered Array (elements between 20 and 40):\", filtered_arr)"
      ],
      "metadata": {
        "colab": {
          "base_uri": "https://localhost:8080/"
        },
        "id": "SKBiGmFl0F5a",
        "outputId": "0142f22c-c4ea-4e38-9ed1-456e8ae50a0f"
      },
      "execution_count": null,
      "outputs": [
        {
          "output_type": "stream",
          "name": "stdout",
          "text": [
            "Original Array: [10 20 30 40 50]\n",
            "Filtered Array (elements between 20 and 40): [20 30 40]\n"
          ]
        }
      ]
    },
    {
      "cell_type": "code",
      "source": [
        "import numpy as np\n",
        "#Q71. For the given NumPy array, check its byte order using the `dtype` attribute byteorder.\n",
        "arr = np.array([1, 2, 3])\n",
        "#Ans-\n",
        "arr = np.array([1, 2, 3])\n",
        "print(arr.dtype.byteorder)"
      ],
      "metadata": {
        "id": "1nHZvQ052MWx",
        "colab": {
          "base_uri": "https://localhost:8080/"
        },
        "outputId": "31172a53-4657-4a5e-c2d5-62db8ba7f859"
      },
      "execution_count": null,
      "outputs": [
        {
          "output_type": "stream",
          "name": "stdout",
          "text": [
            "=\n"
          ]
        }
      ]
    },
    {
      "cell_type": "code",
      "source": [
        "#Q72.  For the given NumPy array, perform byte swapping in place using `byteswap()`.\n",
        "arr = np.array([1, 2, 3], dtype=np.int32)\n",
        "#Ans-\n",
        "arr.byteswap(inplace=True)\n",
        "print(arr)"
      ],
      "metadata": {
        "id": "39kdKNbN2MO7",
        "colab": {
          "base_uri": "https://localhost:8080/"
        },
        "outputId": "d8804454-b067-42cc-95bd-ced8425b5ff7"
      },
      "execution_count": null,
      "outputs": [
        {
          "output_type": "stream",
          "name": "stdout",
          "text": [
            "[16777216 33554432 50331648]\n"
          ]
        }
      ]
    },
    {
      "cell_type": "code",
      "source": [
        "#Q73.  For the given NumPy array, swap its byte order without modifying the original array using `newbyteorder()`.\n",
        "arr = np.array([1, 2, 3], dtype=np.int32)\n",
        "#Ans-\n",
        "arr_swapped = arr.newbyteorder()\n",
        "print(arr_swapped)"
      ],
      "metadata": {
        "id": "lBXjP0gZ2MHu",
        "colab": {
          "base_uri": "https://localhost:8080/"
        },
        "outputId": "4be5f0ea-ca02-4410-8a60-df273f890f4e"
      },
      "execution_count": null,
      "outputs": [
        {
          "output_type": "stream",
          "name": "stdout",
          "text": [
            "[16777216 33554432 50331648]\n"
          ]
        }
      ]
    },
    {
      "cell_type": "code",
      "source": [
        "#Q74. For the given NumPy array and swap its byte order conditionally based on system endianness using `newbyteorder()`.\n",
        "arr = np.array([1, 2, 3], dtype=np.int32)\n",
        "#Ans-\n",
        "if arr.dtype.byteorder == '=':\n",
        "    # System has native byte order, no need to swap\n",
        "    arr_swapped = arr\n",
        "else:\n",
        "    # System has different byte order, swap\n",
        "    arr_swapped = arr.newbyteorder()\n",
        "print(arr_swapped)"
      ],
      "metadata": {
        "id": "uJyAB71A2L_u",
        "colab": {
          "base_uri": "https://localhost:8080/"
        },
        "outputId": "895f0e81-a263-4240-8864-42b67ffd1da7"
      },
      "execution_count": null,
      "outputs": [
        {
          "output_type": "stream",
          "name": "stdout",
          "text": [
            "[1 2 3]\n"
          ]
        }
      ]
    },
    {
      "cell_type": "code",
      "source": [
        "#Q75. For the given NumPy array, check if byte swapping is necessary for the current system using `dtype` attribute `byteorder`.\n",
        "arr = np.array([1, 2, 3], dtype=np.int32)\n",
        "#Ans-\n",
        "if arr.dtype.byteorder != '=':\n",
        "    print(\"Byte swapping is necessary for the current system.\")\n",
        "else:\n",
        "    print(\"Byte swapping is not necessary for the current system.\")"
      ],
      "metadata": {
        "id": "p2Vv99Q62L4H",
        "colab": {
          "base_uri": "https://localhost:8080/"
        },
        "outputId": "0e0c1e17-f971-4293-b1ba-700fefc69d1a"
      },
      "execution_count": null,
      "outputs": [
        {
          "output_type": "stream",
          "name": "stdout",
          "text": [
            "Byte swapping is not necessary for the current system.\n"
          ]
        }
      ]
    },
    {
      "cell_type": "code",
      "source": [
        "#Q76. Create a NumPy array `arr1` with values from 1 to 10. Create a copy of `arr1` named `copy_arr` and modify an element in `copy_arr`. Check if modifying `copy_arr` affects `arr1`.\n",
        "#Ans-\n",
        "arr1 = np.arange(1, 11)\n",
        "copy_arr = arr1.copy()\n",
        "copy_arr[0] = 100# Modify an element in copy_arr\n",
        "# Check if modifying copy_arr affects arr1\n",
        "print(\"Original array (arr1):\", arr1)\n",
        "print(\"Copied array (copy_arr):\", copy_arr)"
      ],
      "metadata": {
        "id": "dRrM9GkN2LtP",
        "colab": {
          "base_uri": "https://localhost:8080/"
        },
        "outputId": "cd8cc03d-49f5-429d-aaae-02657cfb3298"
      },
      "execution_count": null,
      "outputs": [
        {
          "output_type": "stream",
          "name": "stdout",
          "text": [
            "Original array (arr1): [ 1  2  3  4  5  6  7  8  9 10]\n",
            "Copied array (copy_arr): [100   2   3   4   5   6   7   8   9  10]\n"
          ]
        }
      ]
    },
    {
      "cell_type": "code",
      "source": [
        "#Q77.  Create a 2D NumPy array `matrix` of shape (3, 3) with random integers. Extract a slice `view_slice` from the matrix. Modify an element in `view_slice` and observe if it changes the original `matrix\n",
        "#Ans-\n",
        "matrix = np.random.randint(1, 100, size=(3, 3))\n",
        "print(\"Original matrix:\")\n",
        "\n",
        "view_slice = matrix[:2, :2]  # Taking the top-left 2x2 submatrix\n",
        "view_slice[0, 0] = 999\n",
        "print(\"\\nModified view_slice:\")\n",
        "print(view_slice)\n",
        "print(\"\\nOriginal matrix after modifying view_slice:\")\n",
        "print(matrix)"
      ],
      "metadata": {
        "id": "okm1mri42LnE",
        "colab": {
          "base_uri": "https://localhost:8080/"
        },
        "outputId": "83d69a9c-5154-4cc0-e700-b08c7dae2f83"
      },
      "execution_count": null,
      "outputs": [
        {
          "output_type": "stream",
          "name": "stdout",
          "text": [
            "Original matrix:\n",
            "[[ 7 43 25]\n",
            " [26  6 65]\n",
            " [66 92 31]]\n",
            "\n",
            "Modified view_slice:\n",
            "[[999  43]\n",
            " [ 26   6]]\n",
            "\n",
            "Original matrix after modifying view_slice:\n",
            "[[999  43  25]\n",
            " [ 26   6  65]\n",
            " [ 66  92  31]]\n"
          ]
        }
      ]
    },
    {
      "cell_type": "code",
      "source": [
        "#Q78. Create a NumPy array `array_a` of shape (4, 3) with sequential integers from 1 to 12. Extract a slice `view_b` from `array_a` and broadcast the addition of 5 to view_b. Check if it alters the original `array_a`.\n",
        "#Ans-\n",
        "# Create a NumPy array array_a of shape (4, 3) with sequential integers from 1 to 12\n",
        "array_a = np.arange(1, 13).reshape(4, 3)\n",
        "# Print the original array_a\n",
        "print(\"Original array_a:\")\n",
        "print(array_a)\n",
        "# Extract a slice view_b from array_a\n",
        "view_b = array_a[1:3, 1:3]  # Extracting a 2x2 slice starting from the second row and second column\n",
        "# Broadcast the addition of 5 to view_b\n",
        "view_b += 5\n",
        "# Print the modified view_b\n",
        "print(\"\\nModified view_b:\")\n",
        "print(view_b)\n",
        "# Print the original array_a to observe if it's changed\n",
        "print(\"\\nOriginal array_a after modifying view_b:\")\n",
        "print(array_a)"
      ],
      "metadata": {
        "id": "gMn_xD9c2Lf4",
        "colab": {
          "base_uri": "https://localhost:8080/"
        },
        "outputId": "eee0cb14-58b9-4cc5-f0b6-b3bd480135d1"
      },
      "execution_count": null,
      "outputs": [
        {
          "output_type": "stream",
          "name": "stdout",
          "text": [
            "Original array_a:\n",
            "[[ 1  2  3]\n",
            " [ 4  5  6]\n",
            " [ 7  8  9]\n",
            " [10 11 12]]\n",
            "\n",
            "Modified view_b:\n",
            "[[10 11]\n",
            " [13 14]]\n",
            "\n",
            "Original array_a after modifying view_b:\n",
            "[[ 1  2  3]\n",
            " [ 4 10 11]\n",
            " [ 7 13 14]\n",
            " [10 11 12]]\n"
          ]
        }
      ]
    },
    {
      "cell_type": "code",
      "source": [
        "#Q79.  Create a NumPy array `orig_array` of shape (2, 4) with values from 1 to 8. Create a reshaped view `reshaped_view` of shape (4, 2) from orig_array. Modify an element in `reshaped_view` and check if it reflects changes in the original `orig_array`.\n",
        "#ans-\n",
        "# Create a NumPy array orig_array of shape (2, 4) with values from 1 to 8\n",
        "orig_array = np.arange(1, 9).reshape(2, 4)\n",
        "# Print the original orig_array\n",
        "print(\"Original orig_array:\")\n",
        "print(orig_array)\n",
        "# Create a reshaped view reshaped_view of shape (4, 2) from orig_array\n",
        "reshaped_view = orig_array.reshape(4, 2)\n",
        "# Modify an element in reshaped_view\n",
        "reshaped_view[0, 0] = 100\n",
        "# Print the modified reshaped_view\n",
        "print(\"\\nModified reshaped_view:\")\n",
        "print(reshaped_view)\n",
        "# Print the original orig_array to observe if it reflects changes\n",
        "print(\"\\nOriginal orig_array after modifying reshaped_view:\")\n",
        "print(orig_array)"
      ],
      "metadata": {
        "id": "3QtIWgdM2LYt",
        "colab": {
          "base_uri": "https://localhost:8080/"
        },
        "outputId": "07522248-3ae2-449d-8cfd-bf9e0cec6e92"
      },
      "execution_count": null,
      "outputs": [
        {
          "output_type": "stream",
          "name": "stdout",
          "text": [
            "Original orig_array:\n",
            "[[1 2 3 4]\n",
            " [5 6 7 8]]\n",
            "\n",
            "Modified reshaped_view:\n",
            "[[100   2]\n",
            " [  3   4]\n",
            " [  5   6]\n",
            " [  7   8]]\n",
            "\n",
            "Original orig_array after modifying reshaped_view:\n",
            "[[100   2   3   4]\n",
            " [  5   6   7   8]]\n"
          ]
        }
      ]
    },
    {
      "cell_type": "code",
      "source": [
        "#Q80.  Create a NumPy array `data` of shape (3, 4) with random integers. Extract a copy `data_copy` of elements greater than 5. Modify an element in `data_copy` and verify if it affects the original `data`.\n",
        "#Ans=\n",
        "# Create a NumPy array of shape (3, 4) with random integers\n",
        "data = np.random.randint(0, 10, size=(3, 4))\n",
        "print(\"Original data:\")\n",
        "print(data)\n",
        "# Extract a copy of elements greater than 5\n",
        "data_copy = data[data > 5].copy()\n",
        "print(\"\\nCopy of elements greater than 5:\")\n",
        "print(data_copy)\n",
        "# Modify an element in data_copy\n",
        "data_copy[0, 0] = 10\n",
        "# Verify if it affects the original data\n",
        "print(\"\\nOriginal data after modifying data_copy:\")\n",
        "print(data)\n",
        "print(\"\\nCopy of elements greater than 5 after modification:\")\n",
        "print(data_copy)"
      ],
      "metadata": {
        "id": "OR-rjdy42LSW",
        "colab": {
          "base_uri": "https://localhost:8080/",
          "height": 332
        },
        "outputId": "a759b724-e49e-4756-e350-4de30d34f6f2"
      },
      "execution_count": null,
      "outputs": [
        {
          "output_type": "stream",
          "name": "stdout",
          "text": [
            "Original data:\n",
            "[[5 5 8 6]\n",
            " [9 4 0 1]\n",
            " [0 5 7 4]]\n",
            "\n",
            "Copy of elements greater than 5:\n",
            "[8 6 9 7]\n"
          ]
        },
        {
          "output_type": "error",
          "ename": "IndexError",
          "evalue": "too many indices for array: array is 1-dimensional, but 2 were indexed",
          "traceback": [
            "\u001b[0;31m---------------------------------------------------------------------------\u001b[0m",
            "\u001b[0;31mIndexError\u001b[0m                                Traceback (most recent call last)",
            "\u001b[0;32m<ipython-input-24-cbbdb2a755cf>\u001b[0m in \u001b[0;36m<cell line: 16>\u001b[0;34m()\u001b[0m\n\u001b[1;32m     14\u001b[0m \u001b[0;34m\u001b[0m\u001b[0m\n\u001b[1;32m     15\u001b[0m \u001b[0;31m# Modify an element in data_copy\u001b[0m\u001b[0;34m\u001b[0m\u001b[0;34m\u001b[0m\u001b[0m\n\u001b[0;32m---> 16\u001b[0;31m \u001b[0mdata_copy\u001b[0m\u001b[0;34m[\u001b[0m\u001b[0;36m0\u001b[0m\u001b[0;34m,\u001b[0m \u001b[0;36m0\u001b[0m\u001b[0;34m]\u001b[0m \u001b[0;34m=\u001b[0m \u001b[0;36m10\u001b[0m\u001b[0;34m\u001b[0m\u001b[0;34m\u001b[0m\u001b[0m\n\u001b[0m\u001b[1;32m     17\u001b[0m \u001b[0;34m\u001b[0m\u001b[0m\n\u001b[1;32m     18\u001b[0m \u001b[0;31m# Verify if it affects the original data\u001b[0m\u001b[0;34m\u001b[0m\u001b[0;34m\u001b[0m\u001b[0m\n",
            "\u001b[0;31mIndexError\u001b[0m: too many indices for array: array is 1-dimensional, but 2 were indexed"
          ]
        }
      ]
    },
    {
      "cell_type": "code",
      "source": [
        "#Q81.  Create two matrices A and B of identical shape containing integers and perform addition and subtraction operations between them\n",
        "#ans-\n",
        "# Create two matrices A and B of identical shape containing integers\n",
        "A = np.array([[1, 2, 3],\n",
        "              [4, 5, 6]])\n",
        "\n",
        "B = np.array([[7, 8, 9],\n",
        "              [10, 11, 12]])\n",
        "# Perform addition and subtraction operations between them\n",
        "addition_result = A + B\n",
        "subtraction_result = A - B\n",
        "print(\"Matrix A:\")\n",
        "print(A)\n",
        "print(\"\\nMatrix B:\")\n",
        "print(B)\n",
        "print(\"\\nAddition Result (A + B):\")\n",
        "print(addition_result)\n",
        "print(\"\\nSubtraction Result (A - B):\")\n",
        "print(subtraction_result)"
      ],
      "metadata": {
        "id": "F69XlBfa2J73",
        "colab": {
          "base_uri": "https://localhost:8080/"
        },
        "outputId": "09e3c0be-695f-49f5-a488-e4874eecb406"
      },
      "execution_count": null,
      "outputs": [
        {
          "output_type": "stream",
          "name": "stdout",
          "text": [
            "Matrix A:\n",
            "[[1 2 3]\n",
            " [4 5 6]]\n",
            "\n",
            "Matrix B:\n",
            "[[ 7  8  9]\n",
            " [10 11 12]]\n",
            "\n",
            "Addition Result (A + B):\n",
            "[[ 8 10 12]\n",
            " [14 16 18]]\n",
            "\n",
            "Subtraction Result (A - B):\n",
            "[[-6 -6 -6]\n",
            " [-6 -6 -6]]\n"
          ]
        }
      ]
    },
    {
      "cell_type": "code",
      "source": [
        "#Q82. Generate two matrices `C` (3x2) and `D` (2x4) and perform matrix multiplication.\n",
        "#Ans-\n",
        "C = np.array([[1, 2],\n",
        "              [3, 4],\n",
        "              [5, 6]])\n",
        "\n",
        "D = np.array([[7, 8, 9, 10],\n",
        "              [11, 12, 13, 14]])\n",
        "# Perform matrix multiplication\n",
        "multiplication_result = np.dot(C, D)\n",
        "print(\"Matrix C:\")\n",
        "print(C)\n",
        "print(\"\\nMatrix D:\")\n",
        "print(D)\n",
        "print(\"\\nMatrix Multiplication Result (C x D):\")\n",
        "print(multiplication_result)"
      ],
      "metadata": {
        "id": "VniURodE2J2l",
        "colab": {
          "base_uri": "https://localhost:8080/"
        },
        "outputId": "8597bef8-1f59-46ab-d69b-2e1927fc1223"
      },
      "execution_count": null,
      "outputs": [
        {
          "output_type": "stream",
          "name": "stdout",
          "text": [
            "Matrix C:\n",
            "[[1 2]\n",
            " [3 4]\n",
            " [5 6]]\n",
            "\n",
            "Matrix D:\n",
            "[[ 7  8  9 10]\n",
            " [11 12 13 14]]\n",
            "\n",
            "Matrix Multiplication Result (C x D):\n",
            "[[ 29  32  35  38]\n",
            " [ 65  72  79  86]\n",
            " [101 112 123 134]]\n"
          ]
        }
      ]
    },
    {
      "cell_type": "code",
      "source": [
        "#Q83. Create a matrix `E` and find its transpose.\n",
        "#Abs-\n",
        "# Create a matrix E\n",
        "E = np.array([[1, 2, 3],\n",
        "              [4, 5, 6]])\n",
        "E_transpose = np.transpose(E)\n",
        "print(\"Matrix E:\")\n",
        "print(E)\n",
        "print(\"\\nTranspose of Matrix E:\")\n",
        "print(E_transpose)"
      ],
      "metadata": {
        "id": "hdS7fLCL2JuI",
        "colab": {
          "base_uri": "https://localhost:8080/"
        },
        "outputId": "03befc09-ad1c-4f9a-cbd9-732caec98950"
      },
      "execution_count": null,
      "outputs": [
        {
          "output_type": "stream",
          "name": "stdout",
          "text": [
            "Matrix E:\n",
            "[[1 2 3]\n",
            " [4 5 6]]\n",
            "\n",
            "Transpose of Matrix E:\n",
            "[[1 4]\n",
            " [2 5]\n",
            " [3 6]]\n"
          ]
        }
      ]
    },
    {
      "cell_type": "code",
      "source": [
        "#Q84. Generate a square matrix `F` and compute its determinant.\n",
        "#Ans-\n",
        "# Generate a square matrix F\n",
        "F = np.array([[1, 2, 3],\n",
        "              [4, 5, 6],\n",
        "              [7, 8, 9]])\n",
        "# Compute the determinant of matrix F\n",
        "determinant_F = np.linalg.det(F)\n",
        "print(\"Matrix F:\")\n",
        "print(F)\n",
        "print(\"\\nDeterminant of Matrix F:\", determinant_F)"
      ],
      "metadata": {
        "id": "4Ma8oRSx2JpG",
        "colab": {
          "base_uri": "https://localhost:8080/"
        },
        "outputId": "92c234ac-d6fe-40f6-c0af-2054b89a8218"
      },
      "execution_count": null,
      "outputs": [
        {
          "output_type": "stream",
          "name": "stdout",
          "text": [
            "Matrix F:\n",
            "[[1 2 3]\n",
            " [4 5 6]\n",
            " [7 8 9]]\n",
            "\n",
            "Determinant of Matrix F: 0.0\n"
          ]
        }
      ]
    },
    {
      "cell_type": "code",
      "source": [
        "#Q85. Create a square matrix `G` and find its inverse.\n",
        "#Ans-\n",
        "# Create a square matrix G\n",
        "G = np.array([[1, 2],\n",
        "              [3, 4]])\n",
        "inverse_G = np.linalg.inv(G) # Find the inverse of matrix G\n",
        "print(\"Matrix G:\")\n",
        "print(G)\n",
        "print(\"\\nInverse of Matrix G:\")\n",
        "print(inverse_G)"
      ],
      "metadata": {
        "colab": {
          "base_uri": "https://localhost:8080/"
        },
        "id": "pRWgGHP-8SaF",
        "outputId": "c77e73d4-0462-4768-9ce0-638076fca952"
      },
      "execution_count": null,
      "outputs": [
        {
          "output_type": "stream",
          "name": "stdout",
          "text": [
            "Matrix G:\n",
            "[[1 2]\n",
            " [3 4]]\n",
            "\n",
            "Inverse of Matrix G:\n",
            "[[-2.   1. ]\n",
            " [ 1.5 -0.5]]\n"
          ]
        }
      ]
    }
  ]
}